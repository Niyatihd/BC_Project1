{
 "cells": [
  {
   "cell_type": "code",
   "execution_count": 136,
   "metadata": {
    "collapsed": true
   },
   "outputs": [],
   "source": [
    "# Dependencies\n",
    "import json\n",
    "import pandas as pd\n",
    "import matplotlib.pyplot as plt\n",
    "import seaborn as sns"
   ]
  },
  {
   "cell_type": "code",
   "execution_count": 137,
   "metadata": {},
   "outputs": [
    {
     "data": {
      "text/html": [
       "<div>\n",
       "<style>\n",
       "    .dataframe thead tr:only-child th {\n",
       "        text-align: right;\n",
       "    }\n",
       "\n",
       "    .dataframe thead th {\n",
       "        text-align: left;\n",
       "    }\n",
       "\n",
       "    .dataframe tbody tr th {\n",
       "        vertical-align: top;\n",
       "    }\n",
       "</style>\n",
       "<table border=\"1\" class=\"dataframe\">\n",
       "  <thead>\n",
       "    <tr style=\"text-align: right;\">\n",
       "      <th></th>\n",
       "      <th>City Name</th>\n",
       "      <th>Lodging Facility</th>\n",
       "      <th>Latitude</th>\n",
       "      <th>Longitude</th>\n",
       "      <th>Rating</th>\n",
       "      <th>Site Name</th>\n",
       "      <th>Total Count</th>\n",
       "    </tr>\n",
       "  </thead>\n",
       "  <tbody>\n",
       "    <tr>\n",
       "      <th>0</th>\n",
       "      <td>Northern Virginia Area</td>\n",
       "      <td>Fairbrook Hotels</td>\n",
       "      <td>38.96</td>\n",
       "      <td>-77.42</td>\n",
       "      <td>0.0</td>\n",
       "      <td>Center for Innovation Technology</td>\n",
       "      <td>1</td>\n",
       "    </tr>\n",
       "    <tr>\n",
       "      <th>1</th>\n",
       "      <td>Northern Virginia Area</td>\n",
       "      <td>BOQ Lodging</td>\n",
       "      <td>38.84</td>\n",
       "      <td>-77.05</td>\n",
       "      <td>5.0</td>\n",
       "      <td>Crystal City and Potomac Yard</td>\n",
       "      <td>2</td>\n",
       "    </tr>\n",
       "    <tr>\n",
       "      <th>2</th>\n",
       "      <td>Northern Virginia Area</td>\n",
       "      <td>Navy Lodge</td>\n",
       "      <td>38.84</td>\n",
       "      <td>-77.05</td>\n",
       "      <td>3.4</td>\n",
       "      <td>Crystal City and Potomac Yard</td>\n",
       "      <td>2</td>\n",
       "    </tr>\n",
       "    <tr>\n",
       "      <th>3</th>\n",
       "      <td>Washington DC</td>\n",
       "      <td>Navy Gateway Inns and Suites</td>\n",
       "      <td>38.86</td>\n",
       "      <td>-77.01</td>\n",
       "      <td>3.2</td>\n",
       "      <td>Nationals Park/ D.C United Stadium</td>\n",
       "      <td>1</td>\n",
       "    </tr>\n",
       "    <tr>\n",
       "      <th>4</th>\n",
       "      <td>Washington DC</td>\n",
       "      <td>Washington DC Accommodations</td>\n",
       "      <td>38.91</td>\n",
       "      <td>-77.02</td>\n",
       "      <td>0.0</td>\n",
       "      <td>Shaw-Howard University Area</td>\n",
       "      <td>1</td>\n",
       "    </tr>\n",
       "  </tbody>\n",
       "</table>\n",
       "</div>"
      ],
      "text/plain": [
       "                City Name              Lodging Facility  Latitude  Longitude  \\\n",
       "0  Northern Virginia Area              Fairbrook Hotels     38.96     -77.42   \n",
       "1  Northern Virginia Area                   BOQ Lodging     38.84     -77.05   \n",
       "2  Northern Virginia Area                    Navy Lodge     38.84     -77.05   \n",
       "3           Washington DC  Navy Gateway Inns and Suites     38.86     -77.01   \n",
       "4           Washington DC  Washington DC Accommodations     38.91     -77.02   \n",
       "\n",
       "   Rating                           Site Name  Total Count  \n",
       "0     0.0    Center for Innovation Technology            1  \n",
       "1     5.0       Crystal City and Potomac Yard            2  \n",
       "2     3.4       Crystal City and Potomac Yard            2  \n",
       "3     3.2  Nationals Park/ D.C United Stadium            1  \n",
       "4     0.0         Shaw-Howard University Area            1  "
      ]
     },
     "execution_count": 137,
     "metadata": {},
     "output_type": "execute_result"
    }
   ],
   "source": [
    "lodging = pd.read_csv('../Results/Lodging_Rating.csv')\n",
    "del lodging['Unnamed: 0']\n",
    "lodging.replace('NAN', value=0, inplace=True)\n",
    "lodging = lodging.rename(columns={'lodging Total Count':'Total Count', 'Facility lodging':'Lodging Facility'})\n",
    "lodging['Rating']=lodging['Rating'].astype(float)\n",
    "lodging['Total Count']=lodging['Total Count'].astype(int)\n",
    "\n",
    "# restaurant = restaurant.rename(columns={'Facility restaurant':'EatingOut Facility'})\n",
    "# restaurant['Type']='Restaurant'\n",
    "lodging.head()"
   ]
  },
  {
   "cell_type": "code",
   "execution_count": 138,
   "metadata": {},
   "outputs": [
    {
     "data": {
      "text/html": [
       "<div>\n",
       "<style>\n",
       "    .dataframe thead tr:only-child th {\n",
       "        text-align: right;\n",
       "    }\n",
       "\n",
       "    .dataframe thead th {\n",
       "        text-align: left;\n",
       "    }\n",
       "\n",
       "    .dataframe tbody tr th {\n",
       "        vertical-align: top;\n",
       "    }\n",
       "</style>\n",
       "<table border=\"1\" class=\"dataframe\">\n",
       "  <thead>\n",
       "    <tr style=\"text-align: right;\">\n",
       "      <th></th>\n",
       "      <th>City Name</th>\n",
       "      <th>Site Name</th>\n",
       "      <th>Total Count</th>\n",
       "    </tr>\n",
       "  </thead>\n",
       "  <tbody>\n",
       "    <tr>\n",
       "      <th>0</th>\n",
       "      <td>Atlanta</td>\n",
       "      <td>Downtown Atlanta</td>\n",
       "      <td>2</td>\n",
       "    </tr>\n",
       "    <tr>\n",
       "      <th>1</th>\n",
       "      <td>Atlanta</td>\n",
       "      <td>Former GM plant</td>\n",
       "      <td>1</td>\n",
       "    </tr>\n",
       "    <tr>\n",
       "      <th>2</th>\n",
       "      <td>Atlanta</td>\n",
       "      <td>Midtown</td>\n",
       "      <td>3</td>\n",
       "    </tr>\n",
       "    <tr>\n",
       "      <th>3</th>\n",
       "      <td>Atlanta</td>\n",
       "      <td>The High Street Site</td>\n",
       "      <td>1</td>\n",
       "    </tr>\n",
       "    <tr>\n",
       "      <th>4</th>\n",
       "      <td>Austin</td>\n",
       "      <td>American-Statesman</td>\n",
       "      <td>2</td>\n",
       "    </tr>\n",
       "  </tbody>\n",
       "</table>\n",
       "</div>"
      ],
      "text/plain": [
       "  City Name             Site Name  Total Count\n",
       "0   Atlanta      Downtown Atlanta            2\n",
       "1   Atlanta       Former GM plant            1\n",
       "2   Atlanta               Midtown            3\n",
       "3   Atlanta  The High Street Site            1\n",
       "4    Austin   American-Statesman             2"
      ]
     },
     "execution_count": 138,
     "metadata": {},
     "output_type": "execute_result"
    }
   ],
   "source": [
    "new_lodging = lodging.groupby(['City Name', 'Site Name'])\n",
    "lodging_count_df = pd.DataFrame(new_lodging['Site Name'].value_counts())\n",
    "# lodging_count_df=lodging_count_df.reset_index()\n",
    "lodging_count_df = lodging_count_df.rename(columns={'Site Name': 'Total Count'})\n",
    "lodging_count_df=lodging_count_df.reset_index(level=1)\n",
    "lodging_count_df = lodging_count_df.reset_index(level=0)\n",
    "lodging_count_df = lodging_count_df.reset_index(drop=True)\n",
    "lodging_count_df.head()"
   ]
  },
  {
   "cell_type": "code",
   "execution_count": 270,
   "metadata": {},
   "outputs": [
    {
     "data": {
      "text/html": [
       "<div>\n",
       "<style>\n",
       "    .dataframe thead tr:only-child th {\n",
       "        text-align: right;\n",
       "    }\n",
       "\n",
       "    .dataframe thead th {\n",
       "        text-align: left;\n",
       "    }\n",
       "\n",
       "    .dataframe tbody tr th {\n",
       "        vertical-align: top;\n",
       "    }\n",
       "</style>\n",
       "<table border=\"1\" class=\"dataframe\">\n",
       "  <thead>\n",
       "    <tr style=\"text-align: right;\">\n",
       "      <th></th>\n",
       "      <th>City Name</th>\n",
       "      <th>Total Count</th>\n",
       "    </tr>\n",
       "  </thead>\n",
       "  <tbody>\n",
       "    <tr>\n",
       "      <th>0</th>\n",
       "      <td>Chicago</td>\n",
       "      <td>18</td>\n",
       "    </tr>\n",
       "    <tr>\n",
       "      <th>1</th>\n",
       "      <td>New York</td>\n",
       "      <td>8</td>\n",
       "    </tr>\n",
       "    <tr>\n",
       "      <th>2</th>\n",
       "      <td>Atlanta</td>\n",
       "      <td>7</td>\n",
       "    </tr>\n",
       "    <tr>\n",
       "      <th>3</th>\n",
       "      <td>Boston</td>\n",
       "      <td>5</td>\n",
       "    </tr>\n",
       "    <tr>\n",
       "      <th>4</th>\n",
       "      <td>Austin</td>\n",
       "      <td>4</td>\n",
       "    </tr>\n",
       "    <tr>\n",
       "      <th>5</th>\n",
       "      <td>Northern Virginia Area</td>\n",
       "      <td>3</td>\n",
       "    </tr>\n",
       "    <tr>\n",
       "      <th>6</th>\n",
       "      <td>Washington DC</td>\n",
       "      <td>2</td>\n",
       "    </tr>\n",
       "    <tr>\n",
       "      <th>7</th>\n",
       "      <td>Raleigh</td>\n",
       "      <td>2</td>\n",
       "    </tr>\n",
       "  </tbody>\n",
       "</table>\n",
       "</div>"
      ],
      "text/plain": [
       "                City Name  Total Count\n",
       "0                 Chicago           18\n",
       "1                New York            8\n",
       "2                 Atlanta            7\n",
       "3                  Boston            5\n",
       "4                  Austin            4\n",
       "5  Northern Virginia Area            3\n",
       "6           Washington DC            2\n",
       "7                 Raleigh            2"
      ]
     },
     "execution_count": 270,
     "metadata": {},
     "output_type": "execute_result"
    }
   ],
   "source": [
    "lodging_count_final = lodging_count_df.groupby(['City Name'])\n",
    "lodging_count_final_df = pd.DataFrame(lodging_count_final['Total Count'].sum())\n",
    "lodging_count_final_df = lodging_count_final_df.sort_values(['Total Count'])[::-1]\n",
    "lodging_count_final_df = lodging_count_final_df.reset_index()\n",
    "lodging_count_final_df"
   ]
  },
  {
   "cell_type": "code",
   "execution_count": 287,
   "metadata": {},
   "outputs": [
    {
     "name": "stdout",
     "output_type": "stream",
     "text": [
      "{'Chicago': 1, 'New York': 2, 'Atlanta': 3, 'Boston': 4, 'Austin': 5, 'Northern Virginia Area': 6, 'Washington DC': 7, 'Raleigh': 8}\n"
     ]
    },
    {
     "data": {
      "image/png": "[encoded data removed]",
      "text/plain": [
       "<matplotlib.figure.Figure at 0x1a14b509e8>"
      ]
     },
     "metadata": {},
     "output_type": "display_data"
    }
   ],
   "source": [
    "sns.factorplot(kind='bar',x='City Name',y='Total Count',data=lodging_count_final_df,\n",
    "               size=10, aspect=2)\n",
    "ranks_dict = {}\n",
    "y=1\n",
    "for name in lodging_count_final_df['City Name']:\n",
    "    ranks_dict[name] = y\n",
    "    y=y+1\n",
    "print(ranks_dict)\n",
    "\n",
    "plt.title('City Lodging Ranking', fontsize=35, fontweight='bold')\n",
    "\n",
    "plt.xlabel(' ', fontsize=25)\n",
    "plt.ylabel('Total Count', fontsize=25)\n",
    "\n",
    "plt.xticks(fontsize=18)\n",
    "plt.yticks(fontsize=18)\n",
    "\n",
    "plt.show()"
   ]
  },
  {
   "cell_type": "code",
   "execution_count": null,
   "metadata": {
    "collapsed": true
   },
   "outputs": [],
   "source": []
  }
 ],
 "metadata": {
  "kernelspec": {
   "display_name": "pythondata_3",
   "language": "python",
   "name": "pythondata_3"
  },
  "language_info": {
   "codemirror_mode": {
    "name": "ipython",
    "version": 3
   },
   "file_extension": ".py",
   "mimetype": "text/x-python",
   "name": "python",
   "nbconvert_exporter": "python",
   "pygments_lexer": "ipython3",
   "version": "3.6.3"
  }
 },
 "nbformat": 4,
 "nbformat_minor": 2
}
