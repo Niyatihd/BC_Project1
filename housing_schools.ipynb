{
 "cells": [
  {
   "cell_type": "code",
   "execution_count": 74,
   "metadata": {
    "collapsed": true
   },
   "outputs": [],
   "source": [
    "import requests as req\n",
    "import pandas as pd\n",
    "import seaborn as sns\n",
    "import matplotlib.pyplot as plt\n"
   ]
  },
  {
   "cell_type": "code",
   "execution_count": 75,
   "metadata": {},
   "outputs": [],
   "source": [
    "# read places \n",
    "xls = pd.ExcelFile('Project1_AmazonSites.xlsx') \n",
    "places_df=xls.parse('AmazonCities', dtype=str) \n",
    "# read sites \n",
    "xls = pd.ExcelFile('Project1_AmazonSites.xlsx') \n",
    "sites_df=xls.parse('AmazonSites', dtype=str) "
   ]
  },
  {
   "cell_type": "markdown",
   "metadata": {},
   "source": [
    "## Housing Data\n",
    "\n",
    "data from Census API"
   ]
  },
  {
   "cell_type": "code",
   "execution_count": 76,
   "metadata": {},
   "outputs": [
    {
     "data": {
      "text/plain": [
       "<matplotlib.figure.Figure at 0x1a1058b9e8>"
      ]
     },
     "metadata": {},
     "output_type": "display_data"
    },
    {
     "data": {
      "image/png": "[encoded data removed]",
      "text/plain": [
       "<matplotlib.figure.Figure at 0x1a14f4c320>"
      ]
     },
     "metadata": {},
     "output_type": "display_data"
    }
   ],
   "source": [
    "# Housing data from Census\n",
    "housing_df = pd.read_csv(\"housing.csv\")\n",
    "\n",
    "plt.figure(figsize=(8,5))\n",
    "housing_df = housing_df.sort_values('home owner afford')\n",
    "sns.barplot(y='City',x='home owner afford',data=housing_df)\n",
    "plt.xlabel(\"% if income to cover housing costs\")\n",
    "\n",
    "plt.title(\"Affordable House Ownership\")\n",
    "plt.savefig(\"affordhouse.png\")\n",
    "plt.show()\n"
   ]
  },
  {
   "cell_type": "code",
   "execution_count": 95,
   "metadata": {},
   "outputs": [
    {
     "data": {
      "text/html": [
       "<div>\n",
       "<style>\n",
       "    .dataframe thead tr:only-child th {\n",
       "        text-align: right;\n",
       "    }\n",
       "\n",
       "    .dataframe thead th {\n",
       "        text-align: left;\n",
       "    }\n",
       "\n",
       "    .dataframe tbody tr th {\n",
       "        vertical-align: top;\n",
       "    }\n",
       "</style>\n",
       "<table border=\"1\" class=\"dataframe\">\n",
       "  <thead>\n",
       "    <tr style=\"text-align: right;\">\n",
       "      <th></th>\n",
       "      <th>Housing Owner Affordability</th>\n",
       "    </tr>\n",
       "  </thead>\n",
       "  <tbody>\n",
       "    <tr>\n",
       "      <th>5</th>\n",
       "      <td>Raleigh city, North Carolina</td>\n",
       "    </tr>\n",
       "    <tr>\n",
       "      <th>6</th>\n",
       "      <td>Austin city, Texas</td>\n",
       "    </tr>\n",
       "    <tr>\n",
       "      <th>0</th>\n",
       "      <td>Washington city, District of Columbia</td>\n",
       "    </tr>\n",
       "    <tr>\n",
       "      <th>3</th>\n",
       "      <td>Chicago city, Illinois</td>\n",
       "    </tr>\n",
       "    <tr>\n",
       "      <th>7</th>\n",
       "      <td>Atlanta city, Georgia</td>\n",
       "    </tr>\n",
       "    <tr>\n",
       "      <th>2</th>\n",
       "      <td>Boston city, Massachusetts</td>\n",
       "    </tr>\n",
       "    <tr>\n",
       "      <th>1</th>\n",
       "      <td>New York city, New York</td>\n",
       "    </tr>\n",
       "    <tr>\n",
       "      <th>4</th>\n",
       "      <td>Los Angeles city, California</td>\n",
       "    </tr>\n",
       "  </tbody>\n",
       "</table>\n",
       "</div>"
      ],
      "text/plain": [
       "             Housing Owner Affordability\n",
       "5           Raleigh city, North Carolina\n",
       "6                     Austin city, Texas\n",
       "0  Washington city, District of Columbia\n",
       "3                 Chicago city, Illinois\n",
       "7                  Atlanta city, Georgia\n",
       "2             Boston city, Massachusetts\n",
       "1                New York city, New York\n",
       "4           Los Angeles city, California"
      ]
     },
     "execution_count": 95,
     "metadata": {},
     "output_type": "execute_result"
    }
   ],
   "source": [
    "ranking_own = pd.DataFrame(housing_df['City'])\n",
    "ranking_own=ranking_own.rename(columns={'City':'Housing Owner Affordability'})\n",
    "ranking_own\n",
    "ranking= ranking_own\n",
    "ranking"
   ]
  },
  {
   "cell_type": "code",
   "execution_count": 96,
   "metadata": {},
   "outputs": [
    {
     "data": {
      "image/png": "[encoded data removed]",
      "text/plain": [
       "<matplotlib.figure.Figure at 0x1a14ef7358>"
      ]
     },
     "metadata": {},
     "output_type": "display_data"
    }
   ],
   "source": [
    "plt.figure(figsize=(8,5))\n",
    "housing_df = housing_df.sort_values('rent afford')\n",
    "sns.barplot(y='City',x='rent afford',data=housing_df)\n",
    "plt.xlabel(\"% if income to cover renting costs\")\n",
    "plt.title(\"Affordable Rent\")\n",
    "plt.savefig(\"affordrent.png\")\n",
    "plt.show()"
   ]
  },
  {
   "cell_type": "code",
   "execution_count": 94,
   "metadata": {},
   "outputs": [
    {
     "data": {
      "text/html": [
       "<div>\n",
       "<style>\n",
       "    .dataframe thead tr:only-child th {\n",
       "        text-align: right;\n",
       "    }\n",
       "\n",
       "    .dataframe thead th {\n",
       "        text-align: left;\n",
       "    }\n",
       "\n",
       "    .dataframe tbody tr th {\n",
       "        vertical-align: top;\n",
       "    }\n",
       "</style>\n",
       "<table border=\"1\" class=\"dataframe\">\n",
       "  <thead>\n",
       "    <tr style=\"text-align: right;\">\n",
       "      <th></th>\n",
       "      <th>Housing Owner Affordability</th>\n",
       "      <th>k-12 schools</th>\n",
       "      <th>rent</th>\n",
       "    </tr>\n",
       "  </thead>\n",
       "  <tbody>\n",
       "    <tr>\n",
       "      <th>5</th>\n",
       "      <td>Raleigh city, North Carolina</td>\n",
       "      <td>New York</td>\n",
       "      <td>Boston city, Massachusetts</td>\n",
       "    </tr>\n",
       "    <tr>\n",
       "      <th>6</th>\n",
       "      <td>Austin city, Texas</td>\n",
       "      <td>Northern Virginia Area</td>\n",
       "      <td>New York city, New York</td>\n",
       "    </tr>\n",
       "    <tr>\n",
       "      <th>0</th>\n",
       "      <td>Washington city, District of Columbia</td>\n",
       "      <td>Atlanta</td>\n",
       "      <td>Raleigh city, North Carolina</td>\n",
       "    </tr>\n",
       "    <tr>\n",
       "      <th>3</th>\n",
       "      <td>Chicago city, Illinois</td>\n",
       "      <td>Chicago</td>\n",
       "      <td>Chicago city, Illinois</td>\n",
       "    </tr>\n",
       "    <tr>\n",
       "      <th>7</th>\n",
       "      <td>Atlanta city, Georgia</td>\n",
       "      <td>Raleigh</td>\n",
       "      <td>Los Angeles city, California</td>\n",
       "    </tr>\n",
       "    <tr>\n",
       "      <th>2</th>\n",
       "      <td>Boston city, Massachusetts</td>\n",
       "      <td>Boston</td>\n",
       "      <td>Washington city, District of Columbia</td>\n",
       "    </tr>\n",
       "    <tr>\n",
       "      <th>1</th>\n",
       "      <td>New York city, New York</td>\n",
       "      <td>Austin</td>\n",
       "      <td>Austin city, Texas</td>\n",
       "    </tr>\n",
       "    <tr>\n",
       "      <th>4</th>\n",
       "      <td>Los Angeles city, California</td>\n",
       "      <td>Los Angeles</td>\n",
       "      <td>Atlanta city, Georgia</td>\n",
       "    </tr>\n",
       "  </tbody>\n",
       "</table>\n",
       "</div>"
      ],
      "text/plain": [
       "             Housing Owner Affordability            k-12 schools  \\\n",
       "5           Raleigh city, North Carolina                New York   \n",
       "6                     Austin city, Texas  Northern Virginia Area   \n",
       "0  Washington city, District of Columbia                 Atlanta   \n",
       "3                 Chicago city, Illinois                 Chicago   \n",
       "7                  Atlanta city, Georgia                 Raleigh   \n",
       "2             Boston city, Massachusetts                  Boston   \n",
       "1                New York city, New York                  Austin   \n",
       "4           Los Angeles city, California             Los Angeles   \n",
       "\n",
       "                                    rent  \n",
       "5             Boston city, Massachusetts  \n",
       "6                New York city, New York  \n",
       "0           Raleigh city, North Carolina  \n",
       "3                 Chicago city, Illinois  \n",
       "7           Los Angeles city, California  \n",
       "2  Washington city, District of Columbia  \n",
       "1                     Austin city, Texas  \n",
       "4                  Atlanta city, Georgia  "
      ]
     },
     "execution_count": 94,
     "metadata": {},
     "output_type": "execute_result"
    }
   ],
   "source": [
    "ranking_rent = pd.DataFrame(housing_df['City'])\n",
    "ranking_rent=ranking_rent.rename(columns={'City':'Rent Affordability'})\n",
    "ranking_rent\n",
    "ranking['rent']=r['Rent Affordability']\n",
    "\n",
    "ranking"
   ]
  },
  {
   "cell_type": "markdown",
   "metadata": {
    "collapsed": true
   },
   "source": [
    "## Schools"
   ]
  },
  {
   "cell_type": "code",
   "execution_count": 89,
   "metadata": {
    "collapsed": true
   },
   "outputs": [],
   "source": [
    "# read data from Great Schools!\n",
    "school_sites= pd.read_csv(\"schools_GreatSchool.csv\")"
   ]
  },
  {
   "cell_type": "code",
   "execution_count": 90,
   "metadata": {
    "collapsed": true
   },
   "outputs": [],
   "source": [
    "#reduce to cities\n",
    "cities = sites_df[['Amazon City', 'Site Name']]\n",
    "cities = cities.merge(school_sites)\n"
   ]
  },
  {
   "cell_type": "code",
   "execution_count": 91,
   "metadata": {},
   "outputs": [
    {
     "data": {
      "image/png": "[encoded data removed]",
      "text/plain": [
       "<matplotlib.figure.Figure at 0x103917668>"
      ]
     },
     "metadata": {},
     "output_type": "display_data"
    }
   ],
   "source": [
    "cities = cities.sort_values('Average School Rating', ascending=False)\n",
    "sns.set_style(\"whitegrid\")\n",
    "plt.figure(figsize=(10,5))\n",
    "sns.boxplot(x='Average School Rating',y='Amazon City',data=cities)\n",
    "plt.title(\"Average rating of nearby schools by City\")\n",
    "plt.savefig(\"ratingsschoolscity.png\")\n",
    "plt.show()"
   ]
  },
  {
   "cell_type": "code",
   "execution_count": 92,
   "metadata": {},
   "outputs": [
    {
     "data": {
      "text/html": [
       "<div>\n",
       "<style>\n",
       "    .dataframe thead tr:only-child th {\n",
       "        text-align: right;\n",
       "    }\n",
       "\n",
       "    .dataframe thead th {\n",
       "        text-align: left;\n",
       "    }\n",
       "\n",
       "    .dataframe tbody tr th {\n",
       "        vertical-align: top;\n",
       "    }\n",
       "</style>\n",
       "<table border=\"1\" class=\"dataframe\">\n",
       "  <thead>\n",
       "    <tr style=\"text-align: right;\">\n",
       "      <th></th>\n",
       "      <th>index</th>\n",
       "      <th>Schools Ranking</th>\n",
       "      <th>Average School Rating</th>\n",
       "    </tr>\n",
       "  </thead>\n",
       "  <tbody>\n",
       "    <tr>\n",
       "      <th>0</th>\n",
       "      <td>4</td>\n",
       "      <td>Los Angeles</td>\n",
       "      <td>6.286171</td>\n",
       "    </tr>\n",
       "    <tr>\n",
       "      <th>1</th>\n",
       "      <td>1</td>\n",
       "      <td>Austin</td>\n",
       "      <td>6.029233</td>\n",
       "    </tr>\n",
       "    <tr>\n",
       "      <th>2</th>\n",
       "      <td>0</td>\n",
       "      <td>Atlanta</td>\n",
       "      <td>5.463783</td>\n",
       "    </tr>\n",
       "    <tr>\n",
       "      <th>3</th>\n",
       "      <td>8</td>\n",
       "      <td>Washington DC</td>\n",
       "      <td>5.414209</td>\n",
       "    </tr>\n",
       "    <tr>\n",
       "      <th>4</th>\n",
       "      <td>5</td>\n",
       "      <td>New York</td>\n",
       "      <td>5.379339</td>\n",
       "    </tr>\n",
       "    <tr>\n",
       "      <th>5</th>\n",
       "      <td>7</td>\n",
       "      <td>Raleigh</td>\n",
       "      <td>5.303704</td>\n",
       "    </tr>\n",
       "    <tr>\n",
       "      <th>6</th>\n",
       "      <td>6</td>\n",
       "      <td>Northern Virginia Area</td>\n",
       "      <td>4.794643</td>\n",
       "    </tr>\n",
       "    <tr>\n",
       "      <th>7</th>\n",
       "      <td>3</td>\n",
       "      <td>Chicago</td>\n",
       "      <td>4.551157</td>\n",
       "    </tr>\n",
       "    <tr>\n",
       "      <th>8</th>\n",
       "      <td>2</td>\n",
       "      <td>Boston</td>\n",
       "      <td>4.030282</td>\n",
       "    </tr>\n",
       "  </tbody>\n",
       "</table>\n",
       "</div>"
      ],
      "text/plain": [
       "   index         Schools Ranking  Average School Rating\n",
       "0      4             Los Angeles               6.286171\n",
       "1      1                  Austin               6.029233\n",
       "2      0                 Atlanta               5.463783\n",
       "3      8           Washington DC               5.414209\n",
       "4      5                New York               5.379339\n",
       "5      7                 Raleigh               5.303704\n",
       "6      6  Northern Virginia Area               4.794643\n",
       "7      3                 Chicago               4.551157\n",
       "8      2                  Boston               4.030282"
      ]
     },
     "execution_count": 92,
     "metadata": {},
     "output_type": "execute_result"
    }
   ],
   "source": [
    "ranking_schools=cities.groupby(['Amazon City'])['Average School Rating'].mean()\n",
    "ranking_schools=ranking_schools.reset_index()\n",
    "ranking_schools = ranking_schools.sort_values('Average School Rating', ascending=False)\n",
    "ranking_schools = ranking_schools.rename(columns={'Amazon City':'Schools Ranking'})\n",
    "ranking_schools.reset_index()\n"
   ]
  },
  {
   "cell_type": "code",
   "execution_count": 86,
   "metadata": {},
   "outputs": [],
   "source": [
    "ranking['k-12 schools']=ranking_schools['Schools Ranking']"
   ]
  },
  {
   "cell_type": "code",
   "execution_count": 87,
   "metadata": {},
   "outputs": [
    {
     "data": {
      "text/html": [
       "<div>\n",
       "<style>\n",
       "    .dataframe thead tr:only-child th {\n",
       "        text-align: right;\n",
       "    }\n",
       "\n",
       "    .dataframe thead th {\n",
       "        text-align: left;\n",
       "    }\n",
       "\n",
       "    .dataframe tbody tr th {\n",
       "        vertical-align: top;\n",
       "    }\n",
       "</style>\n",
       "<table border=\"1\" class=\"dataframe\">\n",
       "  <thead>\n",
       "    <tr style=\"text-align: right;\">\n",
       "      <th></th>\n",
       "      <th>Housing Owner Affordability</th>\n",
       "      <th>k-12 schools</th>\n",
       "    </tr>\n",
       "  </thead>\n",
       "  <tbody>\n",
       "    <tr>\n",
       "      <th>5</th>\n",
       "      <td>Raleigh city, North Carolina</td>\n",
       "      <td>New York</td>\n",
       "    </tr>\n",
       "    <tr>\n",
       "      <th>6</th>\n",
       "      <td>Austin city, Texas</td>\n",
       "      <td>Northern Virginia Area</td>\n",
       "    </tr>\n",
       "    <tr>\n",
       "      <th>0</th>\n",
       "      <td>Washington city, District of Columbia</td>\n",
       "      <td>Atlanta</td>\n",
       "    </tr>\n",
       "    <tr>\n",
       "      <th>3</th>\n",
       "      <td>Chicago city, Illinois</td>\n",
       "      <td>Chicago</td>\n",
       "    </tr>\n",
       "    <tr>\n",
       "      <th>7</th>\n",
       "      <td>Atlanta city, Georgia</td>\n",
       "      <td>Raleigh</td>\n",
       "    </tr>\n",
       "    <tr>\n",
       "      <th>2</th>\n",
       "      <td>Boston city, Massachusetts</td>\n",
       "      <td>Boston</td>\n",
       "    </tr>\n",
       "    <tr>\n",
       "      <th>1</th>\n",
       "      <td>New York city, New York</td>\n",
       "      <td>Austin</td>\n",
       "    </tr>\n",
       "    <tr>\n",
       "      <th>4</th>\n",
       "      <td>Los Angeles city, California</td>\n",
       "      <td>Los Angeles</td>\n",
       "    </tr>\n",
       "  </tbody>\n",
       "</table>\n",
       "</div>"
      ],
      "text/plain": [
       "             Housing Owner Affordability            k-12 schools\n",
       "5           Raleigh city, North Carolina                New York\n",
       "6                     Austin city, Texas  Northern Virginia Area\n",
       "0  Washington city, District of Columbia                 Atlanta\n",
       "3                 Chicago city, Illinois                 Chicago\n",
       "7                  Atlanta city, Georgia                 Raleigh\n",
       "2             Boston city, Massachusetts                  Boston\n",
       "1                New York city, New York                  Austin\n",
       "4           Los Angeles city, California             Los Angeles"
      ]
     },
     "execution_count": 87,
     "metadata": {},
     "output_type": "execute_result"
    }
   ],
   "source": [
    "ranking_scholo"
   ]
  },
  {
   "cell_type": "raw",
   "metadata": {
    "collapsed": true
   },
   "source": []
  },
  {
   "cell_type": "code",
   "execution_count": null,
   "metadata": {},
   "outputs": [],
   "source": []
  },
  {
   "cell_type": "code",
   "execution_count": null,
   "metadata": {},
   "outputs": [],
   "source": []
  },
  {
   "cell_type": "markdown",
   "metadata": {
    "collapsed": true
   },
   "source": [
    "## Colleges"
   ]
  },
  {
   "cell_type": "code",
   "execution_count": 73,
   "metadata": {},
   "outputs": [
    {
     "data": {
      "text/plain": [
       "<matplotlib.figure.Figure at 0x1a1058b9e8>"
      ]
     },
     "execution_count": 73,
     "metadata": {},
     "output_type": "execute_result"
    }
   ],
   "source": [
    "schools_df = pd.read_csv(\"Colleges.csv\")\n",
    "\n",
    "schools_df['Rating'] = schools_df['Rating'].astype(float)\n",
    "m = schools_df.groupby('Site Name')['Rating'].mean()\n",
    "am = pd.DataFrame(m)\n",
    "am = am.reset_index()\n",
    "am = am.sort_values('Rating', ascending=False)\n",
    "plt.figure(figsize=(5,10))\n",
    "# sns.barplot(x='Rating',y='Site Name',data=am)\n",
    "# plt.title(\"Average rating of nearby colleges\")\n",
    "# plt.savefig(\"nearbycollegerating.png\")\n",
    "# plt.show()"
   ]
  },
  {
   "cell_type": "code",
   "execution_count": 68,
   "metadata": {},
   "outputs": [
    {
     "data": {
      "image/png": "[encoded data removed]",
      "text/plain": [
       "<matplotlib.figure.Figure at 0x1a14b38dd8>"
      ]
     },
     "metadata": {},
     "output_type": "display_data"
    }
   ],
   "source": [
    "#reduce to cities\n",
    "cities = sites_df[['Amazon City', 'Site Name']]\n",
    "cities = cities.merge(am)\n",
    "cities = cities.sort_values('Rating', ascending=False)\n",
    "sns.set_style(\"whitegrid\")\n",
    "plt.figure(figsize=(10,5))\n",
    "sns.boxplot(x='Rating',y='Amazon City',data=cities)\n",
    "plt.title(\"Average rating of nearby colleges by City\")\n",
    "plt.savefig(\"collegeratingscity.png\")\n",
    "plt.show()"
   ]
  },
  {
   "cell_type": "code",
   "execution_count": 69,
   "metadata": {},
   "outputs": [],
   "source": [
    "ranking_college=cities.groupby('Amazon City').mean()\n",
    "ranking_college = ranking_college.reset_index()\n",
    "ranking_college = ranking_college.sort_values('Rating', ascending=False)\n",
    "ranking_college = ranking_college.rename(columns={'Amazon City':'College Ranking'})\n",
    "ranking_college\n",
    "ranking['college']=ranking_college['College Ranking']"
   ]
  },
  {
   "cell_type": "code",
   "execution_count": 72,
   "metadata": {},
   "outputs": [],
   "source": [
    "ranking.to_csv(\"house_school.csv\")"
   ]
  },
  {
   "cell_type": "code",
   "execution_count": null,
   "metadata": {},
   "outputs": [],
   "source": []
  },
  {
   "cell_type": "code",
   "execution_count": null,
   "metadata": {
    "collapsed": true
   },
   "outputs": [],
   "source": []
  }
 ],
 "metadata": {
  "kernelspec": {
   "display_name": "Python 3",
   "language": "python",
   "name": "python3"
  },
  "language_info": {
   "codemirror_mode": {
    "name": "ipython",
    "version": 3
   },
   "file_extension": ".py",
   "mimetype": "text/x-python",
   "name": "python",
   "nbconvert_exporter": "python",
   "pygments_lexer": "ipython3",
   "version": "3.6.3"
  }
 },
 "nbformat": 4,
 "nbformat_minor": 2
}
