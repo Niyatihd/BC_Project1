{
 "cells": [
  {
   "cell_type": "code",
   "execution_count": 51,
   "metadata": {
    "collapsed": true
   },
   "outputs": [],
   "source": [
    "import numpy as np\n",
    "import pandas as pd\n",
    "import matplotlib.pyplot as plt\n",
    "import requests as req\n",
    "from census import Census\n",
    "import json\n",
    "\n",
    "# Census API Key\n",
    "#from config import api_key\n",
    "c = Census(\"49f2db3e7faca8ecd92103d5bd5c5c765442d598\", year=2016)\n"
   ]
  },
  {
   "cell_type": "code",
   "execution_count": 72,
   "metadata": {},
   "outputs": [
    {
     "name": "stdout",
     "output_type": "stream",
     "text": [
      "{'B01002_001E': 'Median Age', 'B25077_001E': 'Median Home Value', 'B25064_001E': 'Median Rent', 'B23025_002E': 'LaborForce', 'B23025_004E': 'Emp_Total', 'B23025_003E': 'Emp_civilian_labor_force', 'C24010_041E': 'Emp_Mgment_Occp_Female', 'C24010_005E': 'Emp_Mgment_Occp_Male', 'B15003_021E': 'Ed_Associates', 'B15003_022E': 'Ed_Bachelors', 'B15003_025E': 'Ed_Doctorate', 'B15003_018E': 'Ed_GED', 'B15003_017E': 'Ed_HighSchool', 'B15003_023E': 'Ed_Masters', 'B15003_024E': 'Ed_Professional', 'B01003_001E': 'Total Population', 'B02001_004E': 'Pop_American_Indian', 'B02001_005E': 'Population_Asian', 'B02001_003E': 'Pop_Black', 'B03001_003E': 'Pop_Hispanic_Origin', 'B02001_006E': 'Pop_Native_Hawaiian', 'B02001_007E': 'Pop_Other', 'B02001_008E': 'Pop_two_or_more_races', 'B02001_002E': 'Pop_White', 'B08136_001E': 'Commute_Time', 'B08136_004E': 'Commute_Time_Carpool', 'B08136_012E': 'Commute_Time_Other', 'B08136_007E': 'Commute_Time_Public_Transport', 'B08136_003E': 'Commute_Time_Solo_Automobile'}\n"
     ]
    },
    {
     "data": {
      "text/html": [
       "<div>\n",
       "<style>\n",
       "    .dataframe thead tr:only-child th {\n",
       "        text-align: right;\n",
       "    }\n",
       "\n",
       "    .dataframe thead th {\n",
       "        text-align: left;\n",
       "    }\n",
       "\n",
       "    .dataframe tbody tr th {\n",
       "        vertical-align: top;\n",
       "    }\n",
       "</style>\n",
       "<table border=\"1\" class=\"dataframe\">\n",
       "  <thead>\n",
       "    <tr style=\"text-align: right;\">\n",
       "      <th></th>\n",
       "      <th>PlaceCode</th>\n",
       "      <th>StateCode</th>\n",
       "    </tr>\n",
       "  </thead>\n",
       "  <tbody>\n",
       "    <tr>\n",
       "      <th>0</th>\n",
       "      <td>50000</td>\n",
       "      <td>11</td>\n",
       "    </tr>\n",
       "    <tr>\n",
       "      <th>1</th>\n",
       "      <td>51000</td>\n",
       "      <td>36</td>\n",
       "    </tr>\n",
       "    <tr>\n",
       "      <th>2</th>\n",
       "      <td>7000</td>\n",
       "      <td>25</td>\n",
       "    </tr>\n",
       "    <tr>\n",
       "      <th>3</th>\n",
       "      <td>14000</td>\n",
       "      <td>17</td>\n",
       "    </tr>\n",
       "    <tr>\n",
       "      <th>4</th>\n",
       "      <td>44000</td>\n",
       "      <td>6</td>\n",
       "    </tr>\n",
       "  </tbody>\n",
       "</table>\n",
       "</div>"
      ],
      "text/plain": [
       "   PlaceCode  StateCode\n",
       "0      50000         11\n",
       "1      51000         36\n",
       "2       7000         25\n",
       "3      14000         17\n",
       "4      44000          6"
      ]
     },
     "execution_count": 72,
     "metadata": {},
     "output_type": "execute_result"
    }
   ],
   "source": [
    "# Logic:\n",
    "#Get the cites to query\n",
    "#Get the census fields to query\n",
    "\n",
    "sourceFile = pd.ExcelFile('Project1_AmazonSites.xlsx')\n",
    "\n",
    "SitesDF=sourceFile.parse('AmazonSites') \n",
    "\n",
    "CitiesDf=sourceFile.parse('AmazonCities') \n",
    "CitiesDf=CitiesDf[['PlaceCode','StateCode']]\n",
    "\n",
    "CensusFieldsDF=sourceFile.parse('CensusFields')\n",
    "CensusFieldsDF = CensusFieldsDF[[\"Datafield\",\"CensusCode\"]]\n",
    "\n",
    "#Converting the CensusFieldsDF into a dictionary.\n",
    "dictCensusFields = CensusFieldsDF.set_index('CensusCode').to_dict()\n",
    "dictCensusFields = dictCensusFields['Datafield']\n",
    "\n",
    "print(dictCensusFields)\n",
    "CitiesDf.head()"
   ]
  },
  {
   "cell_type": "code",
   "execution_count": 71,
   "metadata": {
    "scrolled": true
   },
   "outputs": [
    {
     "name": "stdout",
     "output_type": "stream",
     "text": [
      "['NAME', 'B01002_001E', 'B25077_001E', 'B25064_001E', 'B23025_002E', 'B23025_004E', 'B23025_003E', 'C24010_041E', 'C24010_005E', 'B15003_021E', 'B15003_022E', 'B15003_025E', 'B15003_018E', 'B15003_017E', 'B15003_023E', 'B15003_024E', 'B01003_001E', 'B02001_004E', 'B02001_005E', 'B02001_003E', 'B03001_003E', 'B02001_006E', 'B02001_007E', 'B02001_008E', 'B02001_002E', 'B08136_001E', 'B08136_004E', 'B08136_012E', 'B08136_007E', 'B08136_003E']\n",
      "{'NAME': 'Washington city, District of Columbia', 'B01002_001E': 33.8, 'B25077_001E': 506100.0, 'B25064_001E': 1362.0, 'B23025_002E': 385056.0, 'B23025_004E': 348225.0, 'B23025_003E': 381551.0, 'C24010_041E': 26678.0, 'C24010_005E': 29460.0, 'B15003_021E': 14496.0, 'B15003_022E': 108252.0, 'B15003_025E': 19162.0, 'B15003_018E': 12052.0, 'B15003_017E': 71315.0, 'B15003_023E': 90366.0, 'B15003_024E': 38536.0, 'B01003_001E': 659009.0, 'B02001_004E': 2174.0, 'B02001_005E': 24036.0, 'B02001_003E': 318598.0, 'B03001_003E': 69106.0, 'B02001_006E': 271.0, 'B02001_007E': 29650.0, 'B02001_008E': 18245.0, 'B02001_002E': 266035.0, 'B08136_001E': 9800480.0, 'B08136_004E': 544090.0, 'B08136_012E': 476845.0, 'B08136_007E': 4777575.0, 'B08136_003E': 3215480.0, 'state': '11', 'place': '50000'}\n",
      "{'NAME': 'New York city, New York', 'B01002_001E': 35.9, 'B25077_001E': 508900.0, 'B25064_001E': 1294.0, 'B23025_002E': 4369307.0, 'B23025_004E': 3991617.0, 'B23025_003E': 4367089.0, 'C24010_041E': 175988.0, 'C24010_005E': 219793.0, 'B15003_021E': 375851.0, 'B15003_022E': 1246538.0, 'B15003_025E': 85065.0, 'B15003_018E': 214018.0, 'B15003_017E': 1188696.0, 'B15003_023E': 610225.0, 'B15003_024E': 177697.0, 'B01003_001E': 8461961.0, 'B02001_004E': 33388.0, 'B02001_005E': 1159883.0, 'B02001_003E': 2064927.0, 'B03001_003E': 2457945.0, 'B02001_006E': 3995.0, 'B02001_007E': 1277265.0, 'B02001_008E': 277521.0, 'B02001_002E': 3644982.0, 'B08136_001E': 150713255.0, 'B08136_004E': 6729170.0, 'B08136_012E': 2985775.0, 'B08136_007E': 106467225.0, 'B08136_003E': 28429460.0, 'state': '36', 'place': '51000'}\n"
     ]
    },
    {
     "ename": "IndexError",
     "evalue": "list index out of range",
     "output_type": "error",
     "traceback": [
      "\u001b[1;31m---------------------------------------------------------------------------\u001b[0m",
      "\u001b[1;31mIndexError\u001b[0m                                Traceback (most recent call last)",
      "\u001b[1;32m<ipython-input-71-cbca154264e5>\u001b[0m in \u001b[0;36m<module>\u001b[1;34m()\u001b[0m\n\u001b[0;32m     15\u001b[0m     \u001b[1;31m#print('state:'+ str(city[1]))\u001b[0m\u001b[1;33m\u001b[0m\u001b[1;33m\u001b[0m\u001b[0m\n\u001b[0;32m     16\u001b[0m     \u001b[0mtemp1\u001b[0m \u001b[1;33m=\u001b[0m \u001b[1;33m(\u001b[0m\u001b[0mc\u001b[0m\u001b[1;33m.\u001b[0m\u001b[0macs5\u001b[0m\u001b[1;33m.\u001b[0m\u001b[0mget\u001b[0m\u001b[1;33m(\u001b[0m\u001b[0marrCensusFields\u001b[0m\u001b[1;33m,\u001b[0m \u001b[1;33m{\u001b[0m\u001b[1;34m'for'\u001b[0m\u001b[1;33m:\u001b[0m\u001b[1;34m'place:'\u001b[0m\u001b[1;33m+\u001b[0m\u001b[0mstr\u001b[0m\u001b[1;33m(\u001b[0m\u001b[0mcity\u001b[0m\u001b[1;33m[\u001b[0m\u001b[1;36m0\u001b[0m\u001b[1;33m]\u001b[0m\u001b[1;33m)\u001b[0m\u001b[1;33m,\u001b[0m\u001b[1;34m'in'\u001b[0m\u001b[1;33m:\u001b[0m\u001b[1;34m'state:'\u001b[0m\u001b[1;33m+\u001b[0m\u001b[0mstr\u001b[0m\u001b[1;33m(\u001b[0m\u001b[0mcity\u001b[0m\u001b[1;33m[\u001b[0m\u001b[1;36m1\u001b[0m\u001b[1;33m]\u001b[0m\u001b[1;33m)\u001b[0m\u001b[1;33m}\u001b[0m\u001b[1;33m)\u001b[0m\u001b[1;33m)\u001b[0m\u001b[1;33m\u001b[0m\u001b[0m\n\u001b[1;32m---> 17\u001b[1;33m     \u001b[0mprint\u001b[0m\u001b[1;33m(\u001b[0m\u001b[0mtemp1\u001b[0m\u001b[1;33m[\u001b[0m\u001b[1;36m0\u001b[0m\u001b[1;33m]\u001b[0m\u001b[1;33m)\u001b[0m\u001b[1;33m\u001b[0m\u001b[0m\n\u001b[0m\u001b[0;32m     18\u001b[0m     \u001b[0mcensus_data\u001b[0m\u001b[1;33m.\u001b[0m\u001b[0mappend\u001b[0m\u001b[1;33m(\u001b[0m\u001b[0mtemp1\u001b[0m\u001b[1;33m)\u001b[0m\u001b[1;33m\u001b[0m\u001b[0m\n\u001b[0;32m     19\u001b[0m \u001b[1;33m\u001b[0m\u001b[0m\n",
      "\u001b[1;31mIndexError\u001b[0m: list index out of range"
     ]
    }
   ],
   "source": [
    "\n",
    "# Build your Census API call.\n",
    "arrCensusFields = ['NAME']\n",
    "\n",
    "for k in dictCensusFields.keys():\n",
    "    arrCensusFields.append(k)\n",
    "    \n",
    "print(arrCensusFields)\n",
    "census_data= []\n",
    "\n",
    "for city in CitiesDf.values:\n",
    "    varGeo = {'for':'place:'+str(city[0]),'in':'state:'+str(city[1])}\n",
    "    #census_data = c.acs5.get(arrCensusFields, varGeo)\n",
    "    #print('place:'+str(city[0]))\n",
    "    #print('state:'+ str(city[1]))\n",
    "    temp1 = (c.acs5.get(arrCensusFields, {'for':'place:'+str(city[0]),'in':'state:'+str(city[1])}))\n",
    "    print(temp1[0])\n",
    "    census_data.append(temp1)\n",
    "        \n",
    "#print(census_data)\n",
    "# Convert to DataFrame\n",
    "census_pd = pd.DataFrame(census_data)\n",
    "\n",
    "census_pd = census_pd.rename(columns=dictCensusFields)\n",
    "\n",
    "\n",
    "#census_pd.head()"
   ]
  },
  {
   "cell_type": "code",
   "execution_count": null,
   "metadata": {
    "collapsed": true
   },
   "outputs": [],
   "source": []
  }
 ],
 "metadata": {
  "kernelspec": {
   "display_name": "Python [conda env:PythonData_3]",
   "language": "python",
   "name": "conda-env-PythonData_3-py"
  },
  "language_info": {
   "codemirror_mode": {
    "name": "ipython",
    "version": 3
   },
   "file_extension": ".py",
   "mimetype": "text/x-python",
   "name": "python",
   "nbconvert_exporter": "python",
   "pygments_lexer": "ipython3",
   "version": "3.6.3"
  }
 },
 "nbformat": 4,
 "nbformat_minor": 2
}
