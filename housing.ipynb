{
 "cells": [
  {
   "cell_type": "code",
   "execution_count": 8,
   "metadata": {
    "collapsed": true
   },
   "outputs": [],
   "source": [
    "import requests as req\n",
    "import pandas as pd\n",
    "census_api='c7eba3a0d60bd1b182e282f08d0ccfd80a29c73a'"
   ]
  },
  {
   "cell_type": "code",
   "execution_count": 9,
   "metadata": {
    "collapsed": true
   },
   "outputs": [],
   "source": [
    "# read places \n",
    "xls = pd.ExcelFile('Project1_AmazonSites.xlsx') \n",
    "geo_df=xls.parse('Sheet1') \n",
    "places_df=xls.parse('Sheet2') "
   ]
  },
  {
   "cell_type": "code",
   "execution_count": 10,
   "metadata": {},
   "outputs": [
    {
     "data": {
      "text/plain": [
       "array([[50000,    11],\n",
       "       [51000,    36],\n",
       "       [ 7000,    25],\n",
       "       [14000,    17],\n",
       "       [44000,     6],\n",
       "       [55000,    37],\n",
       "       [ 5000,    48],\n",
       "       [ 4000,    13]])"
      ]
     },
     "execution_count": 10,
     "metadata": {},
     "output_type": "execute_result"
    }
   ],
   "source": [
    "places = places_df[['PlaceCode','StateCode']]\n",
    "places.values"
   ]
  },
  {
   "cell_type": "code",
   "execution_count": 13,
   "metadata": {},
   "outputs": [
    {
     "name": "stdout",
     "output_type": "stream",
     "text": [
      "https://api.census.gov/data/2013/acs1?get=NAME,B25077_001E,B25064_001E,B01003_001E,B19013_001E&for=place:50000&in=state:11&key=c7eba3a0d60bd1b182e282f08d0ccfd80a29c73a\n",
      "[['NAME', 'B25077_001E', 'B25064_001E', 'B01003_001E', 'B19013_001E', 'state', 'place'], ['Washington city, District of Columbia', '470500', '1307', '646449', '67572', '11', '50000']]\n",
      "https://api.census.gov/data/2013/acs1?get=NAME,B25077_001E,B25064_001E,B01003_001E,B19013_001E&for=place:51000&in=state:36&key=c7eba3a0d60bd1b182e282f08d0ccfd80a29c73a\n",
      "[['NAME', 'B25077_001E', 'B25064_001E', 'B01003_001E', 'B19013_001E', 'state', 'place'], ['New York city, New York', '488100', '1228', '8405837', '52223', '36', '51000']]\n",
      "https://api.census.gov/data/2013/acs1?get=NAME,B25077_001E,B25064_001E,B01003_001E,B19013_001E&for=place:7000&in=state:25&key=c7eba3a0d60bd1b182e282f08d0ccfd80a29c73a\n",
      "[['NAME', 'B25077_001E', 'B25064_001E', 'B01003_001E', 'B19013_001E', 'state', 'place'], ['Boston city, Massachusetts', '381700', '1263', '644710', '53583', '25', '07000']]\n",
      "https://api.census.gov/data/2013/acs1?get=NAME,B25077_001E,B25064_001E,B01003_001E,B19013_001E&for=place:14000&in=state:17&key=c7eba3a0d60bd1b182e282f08d0ccfd80a29c73a\n",
      "[['NAME', 'B25077_001E', 'B25064_001E', 'B01003_001E', 'B19013_001E', 'state', 'place'], ['Chicago city, Illinois', '211400', '943', '2718789', '47099', '17', '14000']]\n",
      "https://api.census.gov/data/2013/acs1?get=NAME,B25077_001E,B25064_001E,B01003_001E,B19013_001E&for=place:44000&in=state:6&key=c7eba3a0d60bd1b182e282f08d0ccfd80a29c73a\n",
      "[['NAME', 'B25077_001E', 'B25064_001E', 'B01003_001E', 'B19013_001E', 'state', 'place'], ['Los Angeles city, California', '451200', '1182', '3884340', '48466', '06', '44000']]\n",
      "https://api.census.gov/data/2013/acs1?get=NAME,B25077_001E,B25064_001E,B01003_001E,B19013_001E&for=place:55000&in=state:37&key=c7eba3a0d60bd1b182e282f08d0ccfd80a29c73a\n",
      "[['NAME', 'B25077_001E', 'B25064_001E', 'B01003_001E', 'B19013_001E', 'state', 'place'], ['Raleigh city, North Carolina', '202800', '899', '431897', '55170', '37', '55000']]\n",
      "https://api.census.gov/data/2013/acs1?get=NAME,B25077_001E,B25064_001E,B01003_001E,B19013_001E&for=place:5000&in=state:48&key=c7eba3a0d60bd1b182e282f08d0ccfd80a29c73a\n",
      "[['NAME', 'B25077_001E', 'B25064_001E', 'B01003_001E', 'B19013_001E', 'state', 'place'], ['Austin city, Texas', '234800', '1008', '885415', '56351', '48', '05000']]\n",
      "https://api.census.gov/data/2013/acs1?get=NAME,B25077_001E,B25064_001E,B01003_001E,B19013_001E&for=place:4000&in=state:13&key=c7eba3a0d60bd1b182e282f08d0ccfd80a29c73a\n",
      "[['NAME', 'B25077_001E', 'B25064_001E', 'B01003_001E', 'B19013_001E', 'state', 'place'], ['Atlanta city, Georgia', '200900', '963', '447848', '46485', '13', '04000']]\n"
     ]
    },
    {
     "data": {
      "text/plain": [
       "[{'City': 'Washington city, District of Columbia',\n",
       "  'Income': '67572',\n",
       "  'Median gross rent': '1307',\n",
       "  'Median home value': '470500',\n",
       "  'Population': '646449'},\n",
       " {'City': 'New York city, New York',\n",
       "  'Income': '52223',\n",
       "  'Median gross rent': '1228',\n",
       "  'Median home value': '488100',\n",
       "  'Population': '8405837'},\n",
       " {'City': 'Boston city, Massachusetts',\n",
       "  'Income': '53583',\n",
       "  'Median gross rent': '1263',\n",
       "  'Median home value': '381700',\n",
       "  'Population': '644710'},\n",
       " {'City': 'Chicago city, Illinois',\n",
       "  'Income': '47099',\n",
       "  'Median gross rent': '943',\n",
       "  'Median home value': '211400',\n",
       "  'Population': '2718789'},\n",
       " {'City': 'Los Angeles city, California',\n",
       "  'Income': '48466',\n",
       "  'Median gross rent': '1182',\n",
       "  'Median home value': '451200',\n",
       "  'Population': '3884340'},\n",
       " {'City': 'Raleigh city, North Carolina',\n",
       "  'Income': '55170',\n",
       "  'Median gross rent': '899',\n",
       "  'Median home value': '202800',\n",
       "  'Population': '431897'},\n",
       " {'City': 'Austin city, Texas',\n",
       "  'Income': '56351',\n",
       "  'Median gross rent': '1008',\n",
       "  'Median home value': '234800',\n",
       "  'Population': '885415'},\n",
       " {'City': 'Atlanta city, Georgia',\n",
       "  'Income': '46485',\n",
       "  'Median gross rent': '963',\n",
       "  'Median home value': '200900',\n",
       "  'Population': '447848'}]"
      ]
     },
     "execution_count": 13,
     "metadata": {},
     "output_type": "execute_result"
    }
   ],
   "source": [
    "#query Census based on places\n",
    "q1 = 'https://api.census.gov/data/2013/acs1?get=NAME,B25077_001E,B25064_001E,B01003_001E,B19013_001E&for=place:'\n",
    "q2 = '&in=state:'\n",
    "census_key = '&key=c7eba3a0d60bd1b182e282f08d0ccfd80a29c73a'\n",
    "home_rent = []\n",
    "for p in places.values:\n",
    "    url=q1+str(p[0])+q2+str(p[1])+census_key\n",
    "    print(url)\n",
    "    census_req=req.get(url)\n",
    "    census_data = census_req.json()\n",
    "    print(census_data)\n",
    "    home_rent.append({'City':census_data[1][0],\n",
    "                     'Median home value':census_data[1][1],\n",
    "                     'Median gross rent':census_data[1][2],\n",
    "                     'Population':census_data[1][3],\n",
    "                     'Income':census_data[1][4]})\n",
    "home_rent    "
   ]
  },
  {
   "cell_type": "code",
   "execution_count": 15,
   "metadata": {},
   "outputs": [
    {
     "data": {
      "text/html": [
       "<div>\n",
       "<style>\n",
       "    .dataframe thead tr:only-child th {\n",
       "        text-align: right;\n",
       "    }\n",
       "\n",
       "    .dataframe thead th {\n",
       "        text-align: left;\n",
       "    }\n",
       "\n",
       "    .dataframe tbody tr th {\n",
       "        vertical-align: top;\n",
       "    }\n",
       "</style>\n",
       "<table border=\"1\" class=\"dataframe\">\n",
       "  <thead>\n",
       "    <tr style=\"text-align: right;\">\n",
       "      <th></th>\n",
       "      <th>City</th>\n",
       "      <th>Income</th>\n",
       "      <th>Median gross rent</th>\n",
       "      <th>Median home value</th>\n",
       "      <th>Population</th>\n",
       "    </tr>\n",
       "  </thead>\n",
       "  <tbody>\n",
       "    <tr>\n",
       "      <th>0</th>\n",
       "      <td>Washington city, District of Columbia</td>\n",
       "      <td>67572</td>\n",
       "      <td>1307</td>\n",
       "      <td>470500</td>\n",
       "      <td>646449</td>\n",
       "    </tr>\n",
       "    <tr>\n",
       "      <th>1</th>\n",
       "      <td>New York city, New York</td>\n",
       "      <td>52223</td>\n",
       "      <td>1228</td>\n",
       "      <td>488100</td>\n",
       "      <td>8405837</td>\n",
       "    </tr>\n",
       "    <tr>\n",
       "      <th>2</th>\n",
       "      <td>Boston city, Massachusetts</td>\n",
       "      <td>53583</td>\n",
       "      <td>1263</td>\n",
       "      <td>381700</td>\n",
       "      <td>644710</td>\n",
       "    </tr>\n",
       "    <tr>\n",
       "      <th>3</th>\n",
       "      <td>Chicago city, Illinois</td>\n",
       "      <td>47099</td>\n",
       "      <td>943</td>\n",
       "      <td>211400</td>\n",
       "      <td>2718789</td>\n",
       "    </tr>\n",
       "    <tr>\n",
       "      <th>4</th>\n",
       "      <td>Los Angeles city, California</td>\n",
       "      <td>48466</td>\n",
       "      <td>1182</td>\n",
       "      <td>451200</td>\n",
       "      <td>3884340</td>\n",
       "    </tr>\n",
       "    <tr>\n",
       "      <th>5</th>\n",
       "      <td>Raleigh city, North Carolina</td>\n",
       "      <td>55170</td>\n",
       "      <td>899</td>\n",
       "      <td>202800</td>\n",
       "      <td>431897</td>\n",
       "    </tr>\n",
       "    <tr>\n",
       "      <th>6</th>\n",
       "      <td>Austin city, Texas</td>\n",
       "      <td>56351</td>\n",
       "      <td>1008</td>\n",
       "      <td>234800</td>\n",
       "      <td>885415</td>\n",
       "    </tr>\n",
       "    <tr>\n",
       "      <th>7</th>\n",
       "      <td>Atlanta city, Georgia</td>\n",
       "      <td>46485</td>\n",
       "      <td>963</td>\n",
       "      <td>200900</td>\n",
       "      <td>447848</td>\n",
       "    </tr>\n",
       "  </tbody>\n",
       "</table>\n",
       "</div>"
      ],
      "text/plain": [
       "                                    City Income Median gross rent  \\\n",
       "0  Washington city, District of Columbia  67572              1307   \n",
       "1                New York city, New York  52223              1228   \n",
       "2             Boston city, Massachusetts  53583              1263   \n",
       "3                 Chicago city, Illinois  47099               943   \n",
       "4           Los Angeles city, California  48466              1182   \n",
       "5           Raleigh city, North Carolina  55170               899   \n",
       "6                     Austin city, Texas  56351              1008   \n",
       "7                  Atlanta city, Georgia  46485               963   \n",
       "\n",
       "  Median home value Population  \n",
       "0            470500     646449  \n",
       "1            488100    8405837  \n",
       "2            381700     644710  \n",
       "3            211400    2718789  \n",
       "4            451200    3884340  \n",
       "5            202800     431897  \n",
       "6            234800     885415  \n",
       "7            200900     447848  "
      ]
     },
     "execution_count": 15,
     "metadata": {},
     "output_type": "execute_result"
    }
   ],
   "source": [
    "#get dataframe\n",
    "housing_df = pd.DataFrame(home_rent)\n",
    "housing_df"
   ]
  },
  {
   "cell_type": "code",
   "execution_count": null,
   "metadata": {
    "collapsed": true
   },
   "outputs": [],
   "source": []
  }
 ],
 "metadata": {
  "kernelspec": {
   "display_name": "Python [default]",
   "language": "python",
   "name": "python3"
  },
  "language_info": {
   "codemirror_mode": {
    "name": "ipython",
    "version": 3
   },
   "file_extension": ".py",
   "mimetype": "text/x-python",
   "name": "python",
   "nbconvert_exporter": "python",
   "pygments_lexer": "ipython3",
   "version": "3.6.3"
  }
 },
 "nbformat": 4,
 "nbformat_minor": 2
}
