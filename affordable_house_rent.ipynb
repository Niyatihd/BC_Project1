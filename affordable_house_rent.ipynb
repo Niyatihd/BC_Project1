{
 "cells": [
  {
   "cell_type": "code",
   "execution_count": 25,
   "metadata": {
    "collapsed": true
   },
   "outputs": [],
   "source": [
    "import requests as req\n",
    "import pandas as pd\n",
    "from config_local import census_api\n",
    "from census import Census"
   ]
  },
  {
   "cell_type": "code",
   "execution_count": 26,
   "metadata": {
    "collapsed": true
   },
   "outputs": [],
   "source": [
    "# read places \n",
    "xls = pd.ExcelFile('Project1_AmazonSites.xlsx') \n",
    "places_df=xls.parse('AmazonCities', dtype=str) "
   ]
  },
  {
   "cell_type": "code",
   "execution_count": 27,
   "metadata": {},
   "outputs": [
    {
     "data": {
      "text/html": [
       "<div>\n",
       "<style>\n",
       "    .dataframe thead tr:only-child th {\n",
       "        text-align: right;\n",
       "    }\n",
       "\n",
       "    .dataframe thead th {\n",
       "        text-align: left;\n",
       "    }\n",
       "\n",
       "    .dataframe tbody tr th {\n",
       "        vertical-align: top;\n",
       "    }\n",
       "</style>\n",
       "<table border=\"1\" class=\"dataframe\">\n",
       "  <thead>\n",
       "    <tr style=\"text-align: right;\">\n",
       "      <th></th>\n",
       "      <th>PlaceCode</th>\n",
       "      <th>StateCode</th>\n",
       "    </tr>\n",
       "  </thead>\n",
       "  <tbody>\n",
       "    <tr>\n",
       "      <th>0</th>\n",
       "      <td>50000</td>\n",
       "      <td>11</td>\n",
       "    </tr>\n",
       "    <tr>\n",
       "      <th>1</th>\n",
       "      <td>51000</td>\n",
       "      <td>36</td>\n",
       "    </tr>\n",
       "    <tr>\n",
       "      <th>2</th>\n",
       "      <td>07000</td>\n",
       "      <td>25</td>\n",
       "    </tr>\n",
       "    <tr>\n",
       "      <th>3</th>\n",
       "      <td>14000</td>\n",
       "      <td>17</td>\n",
       "    </tr>\n",
       "    <tr>\n",
       "      <th>4</th>\n",
       "      <td>44000</td>\n",
       "      <td>06</td>\n",
       "    </tr>\n",
       "    <tr>\n",
       "      <th>5</th>\n",
       "      <td>55000</td>\n",
       "      <td>37</td>\n",
       "    </tr>\n",
       "    <tr>\n",
       "      <th>6</th>\n",
       "      <td>05000</td>\n",
       "      <td>48</td>\n",
       "    </tr>\n",
       "    <tr>\n",
       "      <th>7</th>\n",
       "      <td>04000</td>\n",
       "      <td>13</td>\n",
       "    </tr>\n",
       "  </tbody>\n",
       "</table>\n",
       "</div>"
      ],
      "text/plain": [
       "  PlaceCode StateCode\n",
       "0     50000        11\n",
       "1     51000        36\n",
       "2     07000        25\n",
       "3     14000        17\n",
       "4     44000        06\n",
       "5     55000        37\n",
       "6     05000        48\n",
       "7     04000        13"
      ]
     },
     "execution_count": 27,
     "metadata": {},
     "output_type": "execute_result"
    }
   ],
   "source": [
    "places = places_df[['PlaceCode','StateCode']]\n",
    "places\n"
   ]
  },
  {
   "cell_type": "code",
   "execution_count": 28,
   "metadata": {
    "collapsed": true
   },
   "outputs": [],
   "source": [
    "codes_df = xls.parse('CensusFields',parse_cols=1)"
   ]
  },
  {
   "cell_type": "code",
   "execution_count": 29,
   "metadata": {
    "collapsed": true
   },
   "outputs": [],
   "source": [
    "c = Census(census_api, year=2016)"
   ]
  },
  {
   "cell_type": "code",
   "execution_count": 30,
   "metadata": {
    "collapsed": true
   },
   "outputs": [],
   "source": [
    "home_rent =[]"
   ]
  },
  {
   "cell_type": "code",
   "execution_count": 31,
   "metadata": {},
   "outputs": [
    {
     "name": "stdout",
     "output_type": "stream",
     "text": [
      "[{'NAME': 'Washington city, District of Columbia', 'B25077_001E': 506100.0, 'B25064_001E': 1362.0, 'B01003_001E': 659009.0, 'B19013_001E': 72935.0, 'B25105_001E': 1539.0, 'B25004_004E': 2000.0, 'B25004_002E': 10256.0, 'state': '11', 'place': '50000'}]\n",
      "[{'NAME': 'New York city, New York', 'B25077_001E': 508900.0, 'B25064_001E': 1294.0, 'B01003_001E': 8461961.0, 'B19013_001E': 55191.0, 'B25105_001E': 1362.0, 'B25004_004E': 19855.0, 'B25004_002E': 76655.0, 'state': '36', 'place': '51000'}]\n",
      "[{'NAME': 'Boston city, Massachusetts', 'B25077_001E': 423200.0, 'B25064_001E': 1369.0, 'B01003_001E': 658279.0, 'B19013_001E': 58516.0, 'B25105_001E': 1518.0, 'B25004_004E': 1136.0, 'B25004_002E': 5576.0, 'state': '25', 'place': '07000'}]\n",
      "[{'NAME': 'Chicago city, Illinois', 'B25077_001E': 225200.0, 'B25064_001E': 987.0, 'B01003_001E': 2714017.0, 'B19013_001E': 50434.0, 'B25105_001E': 1138.0, 'B25004_004E': 13417.0, 'B25004_002E': 40067.0, 'state': '17', 'place': '14000'}]\n",
      "[{'NAME': 'Los Angeles city, California', 'B25077_001E': 496300.0, 'B25064_001E': 1241.0, 'B01003_001E': 3918872.0, 'B19013_001E': 51538.0, 'B25105_001E': 1410.0, 'B25004_004E': 5401.0, 'B25004_002E': 30057.0, 'state': '06', 'place': '44000'}]\n",
      "[{'NAME': 'Raleigh city, North Carolina', 'B25077_001E': 218200.0, 'B25064_001E': 966.0, 'B01003_001E': 441326.0, 'B19013_001E': 58641.0, 'B25105_001E': 1081.0, 'B25004_004E': 1606.0, 'B25004_002E': 5241.0, 'state': '37', 'place': '55000'}]\n",
      "[{'NAME': 'Austin city, Texas', 'B25077_001E': 257800.0, 'B25064_001E': 1106.0, 'B01003_001E': 907779.0, 'B19013_001E': 60939.0, 'B25105_001E': 1215.0, 'B25004_004E': 1872.0, 'B25004_002E': 11621.0, 'state': '48', 'place': '05000'}]\n",
      "[{'NAME': 'Atlanta city, Georgia', 'B25077_001E': 222300.0, 'B25064_001E': 998.0, 'B01003_001E': 456378.0, 'B19013_001E': 49398.0, 'B25105_001E': 1112.0, 'B25004_004E': 2735.0, 'B25004_002E': 9829.0, 'state': '13', 'place': '04000'}]\n",
      "[{'NAME': 'Washington city, District of Columbia', 'Median home value': 506100.0, 'Median gross rent': 1362.0, 'Population': 659009.0, 'Income': 72935.0, 'Median Mortgage Cost': 1539.0, 'Homeowner Vacancy Rate': 2000.0, 'Rental Vacancy Rate': 10256.0}, {'NAME': 'New York city, New York', 'Median home value': 508900.0, 'Median gross rent': 1294.0, 'Population': 8461961.0, 'Income': 55191.0, 'Median Mortgage Cost': 1362.0, 'Homeowner Vacancy Rate': 19855.0, 'Rental Vacancy Rate': 76655.0}, {'NAME': 'Boston city, Massachusetts', 'Median home value': 423200.0, 'Median gross rent': 1369.0, 'Population': 658279.0, 'Income': 58516.0, 'Median Mortgage Cost': 1518.0, 'Homeowner Vacancy Rate': 1136.0, 'Rental Vacancy Rate': 5576.0}, {'NAME': 'Chicago city, Illinois', 'Median home value': 225200.0, 'Median gross rent': 987.0, 'Population': 2714017.0, 'Income': 50434.0, 'Median Mortgage Cost': 1138.0, 'Homeowner Vacancy Rate': 13417.0, 'Rental Vacancy Rate': 40067.0}, {'NAME': 'Los Angeles city, California', 'Median home value': 496300.0, 'Median gross rent': 1241.0, 'Population': 3918872.0, 'Income': 51538.0, 'Median Mortgage Cost': 1410.0, 'Homeowner Vacancy Rate': 5401.0, 'Rental Vacancy Rate': 30057.0}, {'NAME': 'Raleigh city, North Carolina', 'Median home value': 218200.0, 'Median gross rent': 966.0, 'Population': 441326.0, 'Income': 58641.0, 'Median Mortgage Cost': 1081.0, 'Homeowner Vacancy Rate': 1606.0, 'Rental Vacancy Rate': 5241.0}, {'NAME': 'Austin city, Texas', 'Median home value': 257800.0, 'Median gross rent': 1106.0, 'Population': 907779.0, 'Income': 60939.0, 'Median Mortgage Cost': 1215.0, 'Homeowner Vacancy Rate': 1872.0, 'Rental Vacancy Rate': 11621.0}, {'NAME': 'Atlanta city, Georgia', 'Median home value': 222300.0, 'Median gross rent': 998.0, 'Population': 456378.0, 'Income': 49398.0, 'Median Mortgage Cost': 1112.0, 'Homeowner Vacancy Rate': 2735.0, 'Rental Vacancy Rate': 9829.0}]\n"
     ]
    }
   ],
   "source": [
    "for p in places.values:\n",
    "    place_state = {'for':'place:'+ str(p[0]),'in':'state:'+str(p[1])}\n",
    "    census_data = c.acs5.get((\"NAME\", \"B25077_001E\", \"B25064_001E\", \"B01003_001E\",\n",
    "                              \"B19013_001E\", \"B25105_001E\",\"B25004_004E\",\"B25004_002E\"\n",
    "                              ), \n",
    "                             place_state)\n",
    "    print(census_data)\n",
    "    home_rent.append({'NAME':census_data[0]['NAME'],\n",
    "                     'Median home value':census_data[0]['B25077_001E'],\n",
    "                     'Median gross rent':census_data[0]['B25064_001E'],\n",
    "                     'Population':census_data[0]['B01003_001E'],\n",
    "                     'Income':census_data[0]['B19013_001E'],\n",
    "                     'Median Mortgage Cost':census_data[0]['B25105_001E'],\n",
    "                     'Homeowner Vacancy Rate':census_data[0]['B25004_004E'],\n",
    "                     'Rental Vacancy Rate':census_data[0]['B25004_002E']\n",
    "                     })\n",
    "    #time.sleep(10)\n",
    "print(home_rent)    \n",
    "    "
   ]
  },
  {
   "cell_type": "code",
   "execution_count": 32,
   "metadata": {},
   "outputs": [
    {
     "data": {
      "text/html": [
       "<div>\n",
       "<style>\n",
       "    .dataframe thead tr:only-child th {\n",
       "        text-align: right;\n",
       "    }\n",
       "\n",
       "    .dataframe thead th {\n",
       "        text-align: left;\n",
       "    }\n",
       "\n",
       "    .dataframe tbody tr th {\n",
       "        vertical-align: top;\n",
       "    }\n",
       "</style>\n",
       "<table border=\"1\" class=\"dataframe\">\n",
       "  <thead>\n",
       "    <tr style=\"text-align: right;\">\n",
       "      <th></th>\n",
       "      <th>Homeowner Vacancy Rate</th>\n",
       "      <th>Income</th>\n",
       "      <th>Median Mortgage Cost</th>\n",
       "      <th>Median gross rent</th>\n",
       "      <th>Median home value</th>\n",
       "      <th>NAME</th>\n",
       "      <th>Population</th>\n",
       "      <th>Rental Vacancy Rate</th>\n",
       "    </tr>\n",
       "  </thead>\n",
       "  <tbody>\n",
       "    <tr>\n",
       "      <th>0</th>\n",
       "      <td>2000.0</td>\n",
       "      <td>72935.0</td>\n",
       "      <td>1539.0</td>\n",
       "      <td>1362.0</td>\n",
       "      <td>506100.0</td>\n",
       "      <td>Washington city, District of Columbia</td>\n",
       "      <td>659009.0</td>\n",
       "      <td>10256.0</td>\n",
       "    </tr>\n",
       "    <tr>\n",
       "      <th>1</th>\n",
       "      <td>19855.0</td>\n",
       "      <td>55191.0</td>\n",
       "      <td>1362.0</td>\n",
       "      <td>1294.0</td>\n",
       "      <td>508900.0</td>\n",
       "      <td>New York city, New York</td>\n",
       "      <td>8461961.0</td>\n",
       "      <td>76655.0</td>\n",
       "    </tr>\n",
       "    <tr>\n",
       "      <th>2</th>\n",
       "      <td>1136.0</td>\n",
       "      <td>58516.0</td>\n",
       "      <td>1518.0</td>\n",
       "      <td>1369.0</td>\n",
       "      <td>423200.0</td>\n",
       "      <td>Boston city, Massachusetts</td>\n",
       "      <td>658279.0</td>\n",
       "      <td>5576.0</td>\n",
       "    </tr>\n",
       "    <tr>\n",
       "      <th>3</th>\n",
       "      <td>13417.0</td>\n",
       "      <td>50434.0</td>\n",
       "      <td>1138.0</td>\n",
       "      <td>987.0</td>\n",
       "      <td>225200.0</td>\n",
       "      <td>Chicago city, Illinois</td>\n",
       "      <td>2714017.0</td>\n",
       "      <td>40067.0</td>\n",
       "    </tr>\n",
       "    <tr>\n",
       "      <th>4</th>\n",
       "      <td>5401.0</td>\n",
       "      <td>51538.0</td>\n",
       "      <td>1410.0</td>\n",
       "      <td>1241.0</td>\n",
       "      <td>496300.0</td>\n",
       "      <td>Los Angeles city, California</td>\n",
       "      <td>3918872.0</td>\n",
       "      <td>30057.0</td>\n",
       "    </tr>\n",
       "    <tr>\n",
       "      <th>5</th>\n",
       "      <td>1606.0</td>\n",
       "      <td>58641.0</td>\n",
       "      <td>1081.0</td>\n",
       "      <td>966.0</td>\n",
       "      <td>218200.0</td>\n",
       "      <td>Raleigh city, North Carolina</td>\n",
       "      <td>441326.0</td>\n",
       "      <td>5241.0</td>\n",
       "    </tr>\n",
       "    <tr>\n",
       "      <th>6</th>\n",
       "      <td>1872.0</td>\n",
       "      <td>60939.0</td>\n",
       "      <td>1215.0</td>\n",
       "      <td>1106.0</td>\n",
       "      <td>257800.0</td>\n",
       "      <td>Austin city, Texas</td>\n",
       "      <td>907779.0</td>\n",
       "      <td>11621.0</td>\n",
       "    </tr>\n",
       "    <tr>\n",
       "      <th>7</th>\n",
       "      <td>2735.0</td>\n",
       "      <td>49398.0</td>\n",
       "      <td>1112.0</td>\n",
       "      <td>998.0</td>\n",
       "      <td>222300.0</td>\n",
       "      <td>Atlanta city, Georgia</td>\n",
       "      <td>456378.0</td>\n",
       "      <td>9829.0</td>\n",
       "    </tr>\n",
       "  </tbody>\n",
       "</table>\n",
       "</div>"
      ],
      "text/plain": [
       "   Homeowner Vacancy Rate   Income  Median Mortgage Cost  Median gross rent  \\\n",
       "0                  2000.0  72935.0                1539.0             1362.0   \n",
       "1                 19855.0  55191.0                1362.0             1294.0   \n",
       "2                  1136.0  58516.0                1518.0             1369.0   \n",
       "3                 13417.0  50434.0                1138.0              987.0   \n",
       "4                  5401.0  51538.0                1410.0             1241.0   \n",
       "5                  1606.0  58641.0                1081.0              966.0   \n",
       "6                  1872.0  60939.0                1215.0             1106.0   \n",
       "7                  2735.0  49398.0                1112.0              998.0   \n",
       "\n",
       "   Median home value                                   NAME  Population  \\\n",
       "0           506100.0  Washington city, District of Columbia    659009.0   \n",
       "1           508900.0                New York city, New York   8461961.0   \n",
       "2           423200.0             Boston city, Massachusetts    658279.0   \n",
       "3           225200.0                 Chicago city, Illinois   2714017.0   \n",
       "4           496300.0           Los Angeles city, California   3918872.0   \n",
       "5           218200.0           Raleigh city, North Carolina    441326.0   \n",
       "6           257800.0                     Austin city, Texas    907779.0   \n",
       "7           222300.0                  Atlanta city, Georgia    456378.0   \n",
       "\n",
       "   Rental Vacancy Rate  \n",
       "0              10256.0  \n",
       "1              76655.0  \n",
       "2               5576.0  \n",
       "3              40067.0  \n",
       "4              30057.0  \n",
       "5               5241.0  \n",
       "6              11621.0  \n",
       "7               9829.0  "
      ]
     },
     "execution_count": 32,
     "metadata": {},
     "output_type": "execute_result"
    }
   ],
   "source": [
    "#get dataframe\n",
    "housing_df = pd.DataFrame(home_rent)\n",
    "housing_df"
   ]
  },
  {
   "cell_type": "code",
   "execution_count": 33,
   "metadata": {
    "collapsed": true
   },
   "outputs": [],
   "source": [
    "# Estimate affordable housing cost/income\n",
    "housing_df['home owner afford'] = (12*housing_df['Median Mortgage Cost'])/housing_df['Income']\n",
    "housing_df['rent afford'] = (12*housing_df['Median gross rent'])/housing_df['Income']"
   ]
  },
  {
   "cell_type": "code",
   "execution_count": 34,
   "metadata": {
    "collapsed": true
   },
   "outputs": [],
   "source": [
    "housing_df\n",
    "housing_df.to_csv(\"housing.csv\")"
   ]
  },
  {
   "cell_type": "code",
   "execution_count": 4,
   "metadata": {},
   "outputs": [
    {
     "data": {
      "image/png": "[encoded data removed]",
      "text/plain": [
       "<matplotlib.figure.Figure at 0x1134ac358>"
      ]
     },
     "metadata": {},
     "output_type": "display_data"
    }
   ],
   "source": [
    "import seaborn as sns\n",
    "import matplotlib.pyplot as plt\n",
    "import pandas as pd\n",
    "housing_df = pd.read_csv(\"housing.csv\")\n",
    "\n",
    "plt.figure(figsize=(8,5))\n",
    "housing_df = housing_df.sort_values('home owner afford')\n",
    "sns.barplot(y='City',x='home owner afford',data=housing_df)\n",
    "plt.xlabel(\"% if income to cover housing costs\")\n",
    "\n",
    "plt.title(\"Affordable House Ownership\")\n",
    "plt.savefig(\"affordhouse.png\")\n",
    "plt.show()\n"
   ]
  },
  {
   "cell_type": "code",
   "execution_count": 15,
   "metadata": {},
   "outputs": [
    {
     "data": {
      "text/html": [
       "<div>\n",
       "<style>\n",
       "    .dataframe thead tr:only-child th {\n",
       "        text-align: right;\n",
       "    }\n",
       "\n",
       "    .dataframe thead th {\n",
       "        text-align: left;\n",
       "    }\n",
       "\n",
       "    .dataframe tbody tr th {\n",
       "        vertical-align: top;\n",
       "    }\n",
       "</style>\n",
       "<table border=\"1\" class=\"dataframe\">\n",
       "  <thead>\n",
       "    <tr style=\"text-align: right;\">\n",
       "      <th></th>\n",
       "      <th>Housing Owner Affordability</th>\n",
       "    </tr>\n",
       "  </thead>\n",
       "  <tbody>\n",
       "    <tr>\n",
       "      <th>5</th>\n",
       "      <td>Raleigh city, North Carolina</td>\n",
       "    </tr>\n",
       "    <tr>\n",
       "      <th>6</th>\n",
       "      <td>Austin city, Texas</td>\n",
       "    </tr>\n",
       "    <tr>\n",
       "      <th>0</th>\n",
       "      <td>Washington city, District of Columbia</td>\n",
       "    </tr>\n",
       "    <tr>\n",
       "      <th>7</th>\n",
       "      <td>Atlanta city, Georgia</td>\n",
       "    </tr>\n",
       "    <tr>\n",
       "      <th>3</th>\n",
       "      <td>Chicago city, Illinois</td>\n",
       "    </tr>\n",
       "    <tr>\n",
       "      <th>1</th>\n",
       "      <td>New York city, New York</td>\n",
       "    </tr>\n",
       "    <tr>\n",
       "      <th>2</th>\n",
       "      <td>Boston city, Massachusetts</td>\n",
       "    </tr>\n",
       "    <tr>\n",
       "      <th>4</th>\n",
       "      <td>Los Angeles city, California</td>\n",
       "    </tr>\n",
       "  </tbody>\n",
       "</table>\n",
       "</div>"
      ],
      "text/plain": [
       "             Housing Owner Affordability\n",
       "5           Raleigh city, North Carolina\n",
       "6                     Austin city, Texas\n",
       "0  Washington city, District of Columbia\n",
       "7                  Atlanta city, Georgia\n",
       "3                 Chicago city, Illinois\n",
       "1                New York city, New York\n",
       "2             Boston city, Massachusetts\n",
       "4           Los Angeles city, California"
      ]
     },
     "execution_count": 15,
     "metadata": {},
     "output_type": "execute_result"
    }
   ],
   "source": [
    "ranking_own = pd.DataFrame(housing_df['City'])\n",
    "ranking_own=ranking_own.rename(columns={'City':'Housing Owner Affordability'})\n",
    "ranking_own\n"
   ]
  },
  {
   "cell_type": "code",
   "execution_count": 16,
   "metadata": {},
   "outputs": [
    {
     "data": {
      "image/png": "[encoded data removed]",
      "text/plain": [
       "<matplotlib.figure.Figure at 0x11922e518>"
      ]
     },
     "metadata": {},
     "output_type": "display_data"
    }
   ],
   "source": [
    "plt.figure(figsize=(8,5))\n",
    "housing_df = housing_df.sort_values('rent afford')\n",
    "sns.barplot(y='City',x='rent afford',data=housing_df)\n",
    "plt.xlabel(\"% if income to cover renting costs\")\n",
    "plt.title(\"Affordable Rent\")\n",
    "plt.savefig(\"affordrent.png\")\n",
    "plt.show()"
   ]
  },
  {
   "cell_type": "code",
   "execution_count": 18,
   "metadata": {},
   "outputs": [
    {
     "data": {
      "text/html": [
       "<div>\n",
       "<style>\n",
       "    .dataframe thead tr:only-child th {\n",
       "        text-align: right;\n",
       "    }\n",
       "\n",
       "    .dataframe thead th {\n",
       "        text-align: left;\n",
       "    }\n",
       "\n",
       "    .dataframe tbody tr th {\n",
       "        vertical-align: top;\n",
       "    }\n",
       "</style>\n",
       "<table border=\"1\" class=\"dataframe\">\n",
       "  <thead>\n",
       "    <tr style=\"text-align: right;\">\n",
       "      <th></th>\n",
       "      <th>Rent Affordability</th>\n",
       "    </tr>\n",
       "  </thead>\n",
       "  <tbody>\n",
       "    <tr>\n",
       "      <th>5</th>\n",
       "      <td>Raleigh city, North Carolina</td>\n",
       "    </tr>\n",
       "    <tr>\n",
       "      <th>6</th>\n",
       "      <td>Austin city, Texas</td>\n",
       "    </tr>\n",
       "    <tr>\n",
       "      <th>0</th>\n",
       "      <td>Washington city, District of Columbia</td>\n",
       "    </tr>\n",
       "    <tr>\n",
       "      <th>3</th>\n",
       "      <td>Chicago city, Illinois</td>\n",
       "    </tr>\n",
       "    <tr>\n",
       "      <th>7</th>\n",
       "      <td>Atlanta city, Georgia</td>\n",
       "    </tr>\n",
       "    <tr>\n",
       "      <th>2</th>\n",
       "      <td>Boston city, Massachusetts</td>\n",
       "    </tr>\n",
       "    <tr>\n",
       "      <th>1</th>\n",
       "      <td>New York city, New York</td>\n",
       "    </tr>\n",
       "    <tr>\n",
       "      <th>4</th>\n",
       "      <td>Los Angeles city, California</td>\n",
       "    </tr>\n",
       "  </tbody>\n",
       "</table>\n",
       "</div>"
      ],
      "text/plain": [
       "                      Rent Affordability\n",
       "5           Raleigh city, North Carolina\n",
       "6                     Austin city, Texas\n",
       "0  Washington city, District of Columbia\n",
       "3                 Chicago city, Illinois\n",
       "7                  Atlanta city, Georgia\n",
       "2             Boston city, Massachusetts\n",
       "1                New York city, New York\n",
       "4           Los Angeles city, California"
      ]
     },
     "execution_count": 18,
     "metadata": {},
     "output_type": "execute_result"
    }
   ],
   "source": [
    "ranking_rent = pd.DataFrame(housing_df['City'])\n",
    "ranking_rent=ranking_rent.rename(columns={'City':'Rent Affordability'})\n",
    "ranking_rent"
   ]
  },
  {
   "cell_type": "code",
   "execution_count": 19,
   "metadata": {
    "collapsed": true
   },
   "outputs": [],
   "source": []
  },
  {
   "cell_type": "code",
   "execution_count": null,
   "metadata": {},
   "outputs": [],
   "source": []
  },
  {
   "cell_type": "code",
   "execution_count": null,
   "metadata": {},
   "outputs": [],
   "source": []
  },
  {
   "cell_type": "code",
   "execution_count": null,
   "metadata": {},
   "outputs": [],
   "source": []
  },
  {
   "cell_type": "code",
   "execution_count": null,
   "metadata": {
    "collapsed": true
   },
   "outputs": [],
   "source": []
  }
 ],
 "metadata": {
  "kernelspec": {
   "display_name": "Python 3",
   "language": "python",
   "name": "python3"
  },
  "language_info": {
   "codemirror_mode": {
    "name": "ipython",
    "version": 3
   },
   "file_extension": ".py",
   "mimetype": "text/x-python",
   "name": "python",
   "nbconvert_exporter": "python",
   "pygments_lexer": "ipython3",
   "version": "3.6.3"
  }
 },
 "nbformat": 4,
 "nbformat_minor": 2
}
