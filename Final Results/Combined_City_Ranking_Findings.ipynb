{
 "cells": [
  {
   "cell_type": "markdown",
   "metadata": {
    "collapsed": true
   },
   "source": [
    "# Merge ranking files \n",
    "\n",
    "## Dependencies and data manipulation"
   ]
  },
  {
   "cell_type": "markdown",
   "metadata": {},
   "source": [
    "### Major Findings:\n",
    "\n",
    "#### Demographics, Schools and Housing Affordability:\n",
    "\n",
    "- Washington D.C had the highest percentage of population over 25 years of age with education level of Bachelor's or higher.\n",
    "- Compared to the other cities Washington D.C had the highest percentage of its labor force in technology, business and financial occupations. In other words, D.C ranks ranks first in terms of providing local talent for hiring.\n",
    "- New York is the safest city with the least crime index.\n",
    "- All the cities we identified are very diverse with little variation in the diversity index.\n",
    "- Affordable housing and rent follow the same trend for all cities. Raleigh ranks highest in terms of affordable housing.\n",
    "- School with higher average ratings are in Austin and Los Angeles.\n",
    "- Colleges with higher average ratings are in Raleigh and Los Angeles.\n",
    "\n",
    "#### Amenities:\n",
    "- New York, Chicago & Boston were consistently top cities for most of the amenities.\n",
    "- Los Angeles resulted in no lodging facility within 2 mile radius of any of its site.\n",
    "- Washington DC resulted with the worst parking facility within 2 mile radius of its site.\n",
    "\n",
    "#### Environment Index Observations:\n",
    "- Most cities with higher Climate Index also tends to have a very high Pollution Index, which is highly contradictory - in decision making based on environment preferences.\n",
    "- Raleigh fairs well amongst all as it has Climate Index and lower Pollution Index.\n",
    "\n",
    "#### Transportation:\n",
    "- New York ranks highest in terms of Walk, Bike and Transit scores.\n",
    "- Los Angeles ranks highest in terms of access to both national and international airports.\n",
    "\n",
    "#### Housing and Schools\n",
    "- Consistent trend of home ownership and rent costs. Raleigh, Austin, and Washington ranked top 3\n",
    "- Atlanta and Los Angeles rated among the top on scores for overall schools and college ratings\n",
    "- Austin is listed by Grater Schools as the city with highest average rating per Amazon sites.\n",
    "- Colleges in nearby sites per Amazon city ranked highest for Raleigh  by Google ratings. \n",
    "\n",
    "\n",
    "#### Final Scores: \n",
    "\n",
    "Each city was assigned a score between 1 to 8 for each of the metrics. For instance, Atlanta which has the highest crime index or in other words, the least safe city in our list got a score of 1 while New York, which has the lowest crime index got a score of 8. We tallied up the total score for each city. New York emerged as the most favored city. \n",
    "\n",
    "Once we scored the cities for each of the metrics, we calculated the total score.\n",
    "\n",
    "We had overall 17 categories on which to rank a city, to ensure that consideration for categories are more in line with potential talent attraction, we added weights to each category. For instance Technical Attainment and Home Affordability are categories that weigh more than certain amenities. \n",
    "\n",
    "The overall ranking is then adjusted to show the weighted score for each city. In which case Raleigh and Washington DC rank among the top.\n",
    "\n",
    "\n",
    "\n",
    "\n",
    "\n"
   ]
  },
  {
   "cell_type": "code",
   "execution_count": 1,
   "metadata": {
    "collapsed": true
   },
   "outputs": [],
   "source": [
    "import os\n",
    "import pandas as pd"
   ]
  },
  {
   "cell_type": "code",
   "execution_count": 2,
   "metadata": {
    "collapsed": true
   },
   "outputs": [],
   "source": [
    "# Input filenames\n",
    "house_school_rank_file = os.path.join(\"Results\",\"house_afford_school_ranking.csv\")\n",
    "city_demographic_file = os.path.join(\"Results\",\"Cities_Demographics_Scores.csv\")\n",
    "amenities_file = os.path.join(\"Results\",\"Final City Ranking for Amenities.csv\")\n",
    "transport_file = os.path.join(\"Results\",\"Transport.csv\")\n",
    "environment_file = os.path.join(\"Results\", \"Final City Ranking for Environment.csv\")\n",
    "weightfile = os.path.join(\"Results\",\"weights.csv\")"
   ]
  },
  {
   "cell_type": "code",
   "execution_count": 3,
   "metadata": {
    "collapsed": true
   },
   "outputs": [],
   "source": [
    "# Output filenames\n",
    "combined_rank_file = os.path.join(\"Results\",\"combined_ranking.csv\")\n",
    "combined_ranking_visual_file = os.path.join(\"Plots\",\"combined_ranking_all_visual.png\")\n",
    "total_ranking_visual_file = os.path.join(\"Plots\",\"combined_ranking_total_visual.png\")\n",
    "weighted_ranking_visual_file = os.path.join(\"Plots\",\"combined_ranking_weighted_visual.png\")"
   ]
  },
  {
   "cell_type": "code",
   "execution_count": 4,
   "metadata": {
    "collapsed": true
   },
   "outputs": [],
   "source": [
    "def clean(ranking_data):\n",
    "    if 'Unnamed: 0' in ranking_data.columns:\n",
    "        ranking_data = ranking_data.drop('Unnamed: 0', axis=1)\n",
    "    if 'NAME' in ranking_data.columns:\n",
    "        ranking_data = ranking_data.drop('NAME', axis=1)\n",
    "    if 'Crime Rate' in ranking_data.columns:\n",
    "        ranking_data = ranking_data.drop('Crime Rate', axis=1)\n",
    "    if 'Climate Index' in ranking_data.columns:\n",
    "        ranking_data = ranking_data.drop('Climate Index', axis=1)\n",
    "    if 'Pollution Index' in ranking_data.columns:\n",
    "        ranking_data = ranking_data.drop('Pollution Index', axis=1)\n",
    "    if 'Total Score' in ranking_data.columns:\n",
    "        ranking_data = ranking_data.drop('Total Score', axis=1)\n",
    "    if 'Final Rank' in ranking_data.columns:\n",
    "        ranking_data = ranking_data.drop('Final Rank', axis=1)\n",
    "        \n",
    "    if 'City Name' in ranking_data.columns:\n",
    "        ranking_data = ranking_data.rename(columns={'City Name':'City'})                                         \n",
    "    return ranking_data"
   ]
  },
  {
   "cell_type": "code",
   "execution_count": 5,
   "metadata": {
    "collapsed": true
   },
   "outputs": [],
   "source": [
    "def Read_ranking(filename, show_raw=False):\n",
    "    raw_data =  pd.read_csv(filename)\n",
    "    if show_raw:\n",
    "        display(raw_data)\n",
    "    data=clean(raw_data)\n",
    "    return(data)"
   ]
  },
  {
   "cell_type": "code",
   "execution_count": 6,
   "metadata": {
    "collapsed": true
   },
   "outputs": [],
   "source": [
    "def add_ranks(data1, data2, data3, data4, data5):\n",
    "    combined_rank = pd.merge(data1, data2, on='City')\n",
    "    combined_rank = combined_rank.merge(data3, on= 'City')\n",
    "    combined_rank = combined_rank.merge(data4, on = 'City')\n",
    "    combined_rank = combined_rank.merge(data5, on = 'City')\n",
    "    return combined_rank"
   ]
  },
  {
   "cell_type": "code",
   "execution_count": 7,
   "metadata": {
    "collapsed": true
   },
   "outputs": [],
   "source": [
    "def Visual_all_ranking(filename):\n",
    "    import matplotlib.pyplot as plt\n",
    "    import seaborn as sns\n",
    "    import numpy as np    \n",
    "    \n",
    "    c = pd.read_csv(filename)\n",
    "    c = c.drop('Unnamed: 0', axis=1)\n",
    "    # make the city the index\n",
    "    c = c.set_index('City')\n",
    "    # ensure valus are integers and not strings\n",
    "    c = c.apply(pd.to_numeric)\n",
    "    # prefix all column names with same string\n",
    "    for col in c.columns: \n",
    "        c=c.rename(columns={col:'rating_'+col})\n",
    "    # prepare for visual\n",
    "    c = c.reset_index()\n",
    "    c = c.melt('City', var_name='rating', value_name='vals')\n",
    "    g = sns.factorplot(kind='bar',x=\"vals\", y='City',hue='rating', data=c, size=10)\n",
    "    plt.savefig('combined_ranking_all_visual',bbox_inches='tight')\n",
    "    plt.show()"
   ]
  },
  {
   "cell_type": "code",
   "execution_count": 8,
   "metadata": {
    "collapsed": true
   },
   "outputs": [],
   "source": [
    "def Total_visual(total, visualfile):\n",
    "    import matplotlib.pyplot as plt\n",
    "    import seaborn as sns\n",
    "    \n",
    "    sns.barplot(x='total',y='City',data=total)\n",
    "    plt.savefig(visualfile,bbox_inches='tight')\n",
    "    plt.show()\n",
    "    "
   ]
  },
  {
   "cell_type": "code",
   "execution_count": 9,
   "metadata": {
    "collapsed": true
   },
   "outputs": [],
   "source": [
    "def Total_ranking(filename):\n",
    "\n",
    "    c = pd.read_csv(filename)\n",
    "    c = c.drop('Unnamed: 0', axis=1)\n",
    "    # make the city the index\n",
    "    c = c.set_index('City')\n",
    "    # ensure valus are integers and not strings\n",
    "    c = c.apply(pd.to_numeric)\n",
    "    # Compute totals for each city\n",
    "    c['total']=0\n",
    "    for col in c.columns:\n",
    "        c['total']=c['total']+c[col]\n",
    "        \n",
    "    # Drop all columns, only need the totals\n",
    "    total = c[['total']]\n",
    "    total = total.sort_values('total', ascending=False)\n",
    "    total = total.reset_index()\n",
    "\n",
    "    return(total)\n",
    "    \n",
    "    \n",
    "def load_weights(weightfile):\n",
    "    weights = pd.read_csv(weightfile)\n",
    "    weights= weights.apply(pd.to_numeric)\n",
    "    return weights\n",
    "\n",
    "def Weighted_total(filename, weightfile):\n",
    "    ranking = pd.read_csv(filename)\n",
    "    ranking = ranking.drop('Unnamed: 0', axis=1)\n",
    "    # make the city the index\n",
    "    ranking = ranking.set_index('City')\n",
    "    # ensure valus are integers and not strings\n",
    "    ranking = ranking.apply(pd.to_numeric)\n",
    "    rankcolumns = ranking.columns\n",
    "    \n",
    "    # load weights\n",
    "    w = load_weights(weightfile)\n",
    "\n",
    "    ranking = ranking.reset_index()\n",
    "    # Compute totals for each city\n",
    "    final_ranking=[]\n",
    "    for index, row in ranking.iterrows():\n",
    "        total = 0\n",
    "        for c in rankcolumns:\n",
    "            number = row[c] * w[c]\n",
    "            total = total + number\n",
    "        final_ranking.append({'City':row['City'],\n",
    "                              'total':total[0]})\n",
    "    \n",
    "    final_df = pd.DataFrame(final_ranking)    \n",
    "    total = final_df.sort_values(\"total\", ascending=False)\n",
    "    total=total.reset_index()\n",
    "    total=total.drop(\"index\",axis=1)\n",
    "    return total\n",
    "    \n",
    "    "
   ]
  },
  {
   "cell_type": "markdown",
   "metadata": {},
   "source": [
    "# Read data"
   ]
  },
  {
   "cell_type": "code",
   "execution_count": 10,
   "metadata": {
    "collapsed": true
   },
   "outputs": [],
   "source": [
    "house_school_rank = Read_ranking(house_school_rank_file)\n",
    "demographic_rank = Read_ranking(city_demographic_file)\n",
    "amenities_rank = Read_ranking(amenities_file)\n",
    "transport_rank = Read_ranking(transport_file)\n",
    "environment_rank = Read_ranking(environment_file)\n"
   ]
  },
  {
   "cell_type": "code",
   "execution_count": 11,
   "metadata": {
    "collapsed": true
   },
   "outputs": [],
   "source": [
    "combined_rank = add_ranks(house_school_rank,\n",
    "              demographic_rank,\n",
    "              amenities_rank,\n",
    "              transport_rank,\n",
    "              environment_rank)\n",
    "combined_rank.to_csv(combined_rank_file)"
   ]
  },
  {
   "cell_type": "markdown",
   "metadata": {},
   "source": [
    "# Totals\n",
    "## Raw Totals"
   ]
  },
  {
   "cell_type": "code",
   "execution_count": 12,
   "metadata": {},
   "outputs": [
    {
     "data": {
      "text/html": [
       "<div>\n",
       "<style>\n",
       "    .dataframe thead tr:only-child th {\n",
       "        text-align: right;\n",
       "    }\n",
       "\n",
       "    .dataframe thead th {\n",
       "        text-align: left;\n",
       "    }\n",
       "\n",
       "    .dataframe tbody tr th {\n",
       "        vertical-align: top;\n",
       "    }\n",
       "</style>\n",
       "<table border=\"1\" class=\"dataframe\">\n",
       "  <thead>\n",
       "    <tr style=\"text-align: right;\">\n",
       "      <th></th>\n",
       "      <th>City</th>\n",
       "      <th>total</th>\n",
       "    </tr>\n",
       "  </thead>\n",
       "  <tbody>\n",
       "    <tr>\n",
       "      <th>0</th>\n",
       "      <td>New York</td>\n",
       "      <td>170</td>\n",
       "    </tr>\n",
       "    <tr>\n",
       "      <th>1</th>\n",
       "      <td>Raleigh</td>\n",
       "      <td>162</td>\n",
       "    </tr>\n",
       "    <tr>\n",
       "      <th>2</th>\n",
       "      <td>Washington DC</td>\n",
       "      <td>162</td>\n",
       "    </tr>\n",
       "    <tr>\n",
       "      <th>3</th>\n",
       "      <td>Chicago</td>\n",
       "      <td>160</td>\n",
       "    </tr>\n",
       "    <tr>\n",
       "      <th>4</th>\n",
       "      <td>Boston</td>\n",
       "      <td>154</td>\n",
       "    </tr>\n",
       "    <tr>\n",
       "      <th>5</th>\n",
       "      <td>Austin</td>\n",
       "      <td>142</td>\n",
       "    </tr>\n",
       "    <tr>\n",
       "      <th>6</th>\n",
       "      <td>Atlanta</td>\n",
       "      <td>136</td>\n",
       "    </tr>\n",
       "    <tr>\n",
       "      <th>7</th>\n",
       "      <td>Los Angeles</td>\n",
       "      <td>132</td>\n",
       "    </tr>\n",
       "  </tbody>\n",
       "</table>\n",
       "</div>"
      ],
      "text/plain": [
       "            City  total\n",
       "0       New York    170\n",
       "1        Raleigh    162\n",
       "2  Washington DC    162\n",
       "3        Chicago    160\n",
       "4         Boston    154\n",
       "5         Austin    142\n",
       "6        Atlanta    136\n",
       "7    Los Angeles    132"
      ]
     },
     "execution_count": 12,
     "metadata": {},
     "output_type": "execute_result"
    }
   ],
   "source": [
    "ranking = Total_ranking(combined_rank_file)\n",
    "ranking"
   ]
  },
  {
   "cell_type": "markdown",
   "metadata": {},
   "source": [
    "## Weighted Totals"
   ]
  },
  {
   "cell_type": "code",
   "execution_count": 13,
   "metadata": {},
   "outputs": [
    {
     "data": {
      "text/html": [
       "<div>\n",
       "<style>\n",
       "    .dataframe thead tr:only-child th {\n",
       "        text-align: right;\n",
       "    }\n",
       "\n",
       "    .dataframe thead th {\n",
       "        text-align: left;\n",
       "    }\n",
       "\n",
       "    .dataframe tbody tr th {\n",
       "        vertical-align: top;\n",
       "    }\n",
       "</style>\n",
       "<table border=\"1\" class=\"dataframe\">\n",
       "  <thead>\n",
       "    <tr style=\"text-align: right;\">\n",
       "      <th></th>\n",
       "      <th>City</th>\n",
       "      <th>total</th>\n",
       "    </tr>\n",
       "  </thead>\n",
       "  <tbody>\n",
       "    <tr>\n",
       "      <th>0</th>\n",
       "      <td>Raleigh</td>\n",
       "      <td>127.75</td>\n",
       "    </tr>\n",
       "    <tr>\n",
       "      <th>1</th>\n",
       "      <td>Washington DC</td>\n",
       "      <td>116.00</td>\n",
       "    </tr>\n",
       "    <tr>\n",
       "      <th>2</th>\n",
       "      <td>Austin</td>\n",
       "      <td>104.75</td>\n",
       "    </tr>\n",
       "    <tr>\n",
       "      <th>3</th>\n",
       "      <td>Atlanta</td>\n",
       "      <td>100.50</td>\n",
       "    </tr>\n",
       "    <tr>\n",
       "      <th>4</th>\n",
       "      <td>New York</td>\n",
       "      <td>91.50</td>\n",
       "    </tr>\n",
       "    <tr>\n",
       "      <th>5</th>\n",
       "      <td>Chicago</td>\n",
       "      <td>89.00</td>\n",
       "    </tr>\n",
       "    <tr>\n",
       "      <th>6</th>\n",
       "      <td>Boston</td>\n",
       "      <td>87.75</td>\n",
       "    </tr>\n",
       "    <tr>\n",
       "      <th>7</th>\n",
       "      <td>Los Angeles</td>\n",
       "      <td>71.75</td>\n",
       "    </tr>\n",
       "  </tbody>\n",
       "</table>\n",
       "</div>"
      ],
      "text/plain": [
       "            City   total\n",
       "0        Raleigh  127.75\n",
       "1  Washington DC  116.00\n",
       "2         Austin  104.75\n",
       "3        Atlanta  100.50\n",
       "4       New York   91.50\n",
       "5        Chicago   89.00\n",
       "6         Boston   87.75\n",
       "7    Los Angeles   71.75"
      ]
     },
     "execution_count": 13,
     "metadata": {},
     "output_type": "execute_result"
    }
   ],
   "source": [
    "weighted = Weighted_total(combined_rank_file, weightfile)\n",
    "weighted"
   ]
  },
  {
   "cell_type": "markdown",
   "metadata": {},
   "source": [
    "# Visuals \n",
    "## All rankings visual"
   ]
  },
  {
   "cell_type": "code",
   "execution_count": 14,
   "metadata": {},
   "outputs": [
    {
     "data": {
      "image/png": "[encoded data removed]",
      "text/plain": [
       "<matplotlib.figure.Figure at 0x1a11145c88>"
      ]
     },
     "metadata": {},
     "output_type": "display_data"
    }
   ],
   "source": [
    "Visual_all_ranking(combined_rank_file)"
   ]
  },
  {
   "cell_type": "markdown",
   "metadata": {},
   "source": [
    "## Visual Totals"
   ]
  },
  {
   "cell_type": "code",
   "execution_count": 15,
   "metadata": {},
   "outputs": [
    {
     "data": {
      "image/png": "[encoded data removed]",
      "text/plain": [
       "<matplotlib.figure.Figure at 0x10eae3630>"
      ]
     },
     "metadata": {},
     "output_type": "display_data"
    }
   ],
   "source": [
    "Total_visual(ranking,total_ranking_visual_file)"
   ]
  },
  {
   "cell_type": "markdown",
   "metadata": {},
   "source": [
    "## Weighted Total Visual"
   ]
  },
  {
   "cell_type": "code",
   "execution_count": 16,
   "metadata": {},
   "outputs": [
    {
     "data": {
      "image/png": "[encoded data removed]",
      "text/plain": [
       "<matplotlib.figure.Figure at 0x1a19908908>"
      ]
     },
     "metadata": {},
     "output_type": "display_data"
    }
   ],
   "source": [
    "Total_visual(weighted,weighted_ranking_visual_file)"
   ]
  },
  {
   "cell_type": "code",
   "execution_count": null,
   "metadata": {
    "collapsed": true
   },
   "outputs": [],
   "source": []
  },
  {
   "cell_type": "code",
   "execution_count": null,
   "metadata": {
    "collapsed": true
   },
   "outputs": [],
   "source": []
  },
  {
   "cell_type": "code",
   "execution_count": null,
   "metadata": {
    "collapsed": true
   },
   "outputs": [],
   "source": []
  }
 ],
 "metadata": {
  "kernelspec": {
   "display_name": "Python 3",
   "language": "python",
   "name": "python3"
  },
  "language_info": {
   "codemirror_mode": {
    "name": "ipython",
    "version": 3
   },
   "file_extension": ".py",
   "mimetype": "text/x-python",
   "name": "python",
   "nbconvert_exporter": "python",
   "pygments_lexer": "ipython3",
   "version": "3.6.3"
  }
 },
 "nbformat": 4,
 "nbformat_minor": 2
}
